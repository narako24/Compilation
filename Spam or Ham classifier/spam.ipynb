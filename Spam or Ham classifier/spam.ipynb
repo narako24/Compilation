{
 "cells": [
  {
   "cell_type": "code",
   "execution_count": 60,
   "id": "7c7104b0",
   "metadata": {},
   "outputs": [],
   "source": [
    "# Import Necessary libraries\n",
    "import pandas as pd \n",
    "import numpy as np\n",
    "import matplotlib.pyplot as plt #plotting\n",
    "import seaborn as sns #plotting"
   ]
  },
  {
   "cell_type": "code",
   "execution_count": 61,
   "id": "9368c750",
   "metadata": {},
   "outputs": [],
   "source": [
    "# Loading the dataset\n",
    "ft = pd.read_csv('spam.csv', encoding = 'latin-1')\n",
    "\n",
    "# Renaming the type and message columns\n",
    "ft = ft.drop([\"Unnamed: 2\", \"Unnamed: 3\", \"Unnamed: 4\"], axis=1)\n",
    "ft = ft.rename(columns={\"v1\": 'type', \"v2\": 'message'})\n",
    "\n",
    "mark = ft[\"type\"]\n",
    "texts = ft[\"message\"]"
   ]
  },
  {
   "cell_type": "code",
   "execution_count": 62,
   "id": "6169927e",
   "metadata": {},
   "outputs": [
    {
     "data": {
      "text/html": [
       "<div>\n",
       "<style scoped>\n",
       "    .dataframe tbody tr th:only-of-type {\n",
       "        vertical-align: middle;\n",
       "    }\n",
       "\n",
       "    .dataframe tbody tr th {\n",
       "        vertical-align: top;\n",
       "    }\n",
       "\n",
       "    .dataframe thead th {\n",
       "        text-align: right;\n",
       "    }\n",
       "</style>\n",
       "<table border=\"1\" class=\"dataframe\">\n",
       "  <thead>\n",
       "    <tr style=\"text-align: right;\">\n",
       "      <th></th>\n",
       "      <th>type</th>\n",
       "      <th>message</th>\n",
       "    </tr>\n",
       "  </thead>\n",
       "  <tbody>\n",
       "    <tr>\n",
       "      <th>0</th>\n",
       "      <td>ham</td>\n",
       "      <td>Go until jurong point, crazy.. Available only ...</td>\n",
       "    </tr>\n",
       "    <tr>\n",
       "      <th>1</th>\n",
       "      <td>ham</td>\n",
       "      <td>Ok lar... Joking wif u oni...</td>\n",
       "    </tr>\n",
       "    <tr>\n",
       "      <th>2</th>\n",
       "      <td>spam</td>\n",
       "      <td>Free entry in 2 a wkly comp to win FA Cup fina...</td>\n",
       "    </tr>\n",
       "    <tr>\n",
       "      <th>3</th>\n",
       "      <td>ham</td>\n",
       "      <td>U dun say so early hor... U c already then say...</td>\n",
       "    </tr>\n",
       "    <tr>\n",
       "      <th>4</th>\n",
       "      <td>ham</td>\n",
       "      <td>Nah I don't think he goes to usf, he lives aro...</td>\n",
       "    </tr>\n",
       "  </tbody>\n",
       "</table>\n",
       "</div>"
      ],
      "text/plain": [
       "   type                                            message\n",
       "0   ham  Go until jurong point, crazy.. Available only ...\n",
       "1   ham                      Ok lar... Joking wif u oni...\n",
       "2  spam  Free entry in 2 a wkly comp to win FA Cup fina...\n",
       "3   ham  U dun say so early hor... U c already then say...\n",
       "4   ham  Nah I don't think he goes to usf, he lives aro..."
      ]
     },
     "execution_count": 62,
     "metadata": {},
     "output_type": "execute_result"
    }
   ],
   "source": [
    "# Display the first 5 rows of the dataset\n",
    "ft.head()"
   ]
  },
  {
   "cell_type": "code",
   "execution_count": 63,
   "id": "b1261a8d",
   "metadata": {},
   "outputs": [
    {
     "data": {
      "text/plain": [
       "ham     4825\n",
       "spam     747\n",
       "Name: type, dtype: int64"
      ]
     },
     "execution_count": 63,
     "metadata": {},
     "output_type": "execute_result"
    }
   ],
   "source": [
    "ft.type.value_counts()"
   ]
  },
  {
   "cell_type": "code",
   "execution_count": 64,
   "id": "1d043541",
   "metadata": {},
   "outputs": [
    {
     "name": "stderr",
     "output_type": "stream",
     "text": [
      "C:\\Users\\Cocoritter\\anaconda3\\lib\\site-packages\\seaborn\\_decorators.py:36: FutureWarning: Pass the following variable as a keyword arg: x. From version 0.12, the only valid positional argument will be `data`, and passing other arguments without an explicit keyword will result in an error or misinterpretation.\n",
      "  warnings.warn(\n"
     ]
    },
    {
     "data": {
      "image/png": "[encoded data removed]",
      "text/plain": [
       "<Figure size 432x288 with 1 Axes>"
      ]
     },
     "metadata": {
      "needs_background": "light"
     },
     "output_type": "display_data"
    }
   ],
   "source": [
    "%matplotlib inline\n",
    "\n",
    "sns.countplot(ft.type)\n",
    "plt.show()"
   ]
  },
  {
   "cell_type": "code",
   "execution_count": 65,
   "id": "dcca9761",
   "metadata": {},
   "outputs": [
    {
     "data": {
      "text/html": [
       "<div>\n",
       "<style scoped>\n",
       "    .dataframe tbody tr th:only-of-type {\n",
       "        vertical-align: middle;\n",
       "    }\n",
       "\n",
       "    .dataframe tbody tr th {\n",
       "        vertical-align: top;\n",
       "    }\n",
       "\n",
       "    .dataframe thead th {\n",
       "        text-align: right;\n",
       "    }\n",
       "</style>\n",
       "<table border=\"1\" class=\"dataframe\">\n",
       "  <thead>\n",
       "    <tr style=\"text-align: right;\">\n",
       "      <th></th>\n",
       "      <th>type</th>\n",
       "      <th>message</th>\n",
       "    </tr>\n",
       "  </thead>\n",
       "  <tbody>\n",
       "    <tr>\n",
       "      <th>0</th>\n",
       "      <td>0</td>\n",
       "      <td>Go until jurong point, crazy.. Available only ...</td>\n",
       "    </tr>\n",
       "    <tr>\n",
       "      <th>1</th>\n",
       "      <td>0</td>\n",
       "      <td>Ok lar... Joking wif u oni...</td>\n",
       "    </tr>\n",
       "    <tr>\n",
       "      <th>2</th>\n",
       "      <td>1</td>\n",
       "      <td>Free entry in 2 a wkly comp to win FA Cup fina...</td>\n",
       "    </tr>\n",
       "    <tr>\n",
       "      <th>3</th>\n",
       "      <td>0</td>\n",
       "      <td>U dun say so early hor... U c already then say...</td>\n",
       "    </tr>\n",
       "    <tr>\n",
       "      <th>4</th>\n",
       "      <td>0</td>\n",
       "      <td>Nah I don't think he goes to usf, he lives aro...</td>\n",
       "    </tr>\n",
       "  </tbody>\n",
       "</table>\n",
       "</div>"
      ],
      "text/plain": [
       "   type                                            message\n",
       "0     0  Go until jurong point, crazy.. Available only ...\n",
       "1     0                      Ok lar... Joking wif u oni...\n",
       "2     1  Free entry in 2 a wkly comp to win FA Cup fina...\n",
       "3     0  U dun say so early hor... U c already then say...\n",
       "4     0  Nah I don't think he goes to usf, he lives aro..."
      ]
     },
     "execution_count": 65,
     "metadata": {},
     "output_type": "execute_result"
    }
   ],
   "source": [
    "ft['type'] = ft['type'].map( \n",
    "    {'spam': 1, 'ham': 0} )\n",
    "\n",
    "ft.head()"
   ]
  },
  {
   "cell_type": "code",
   "execution_count": 66,
   "id": "0eb7ec94",
   "metadata": {},
   "outputs": [],
   "source": [
    "# Test and train set libraries for splitting\n",
    "from sklearn.model_selection import train_test_split\n",
    "\n",
    "X = ft['message'].values\n",
    "y = ft['type'].values\n",
    "\n",
    "X_train, X_test, y_train, y_test = train_test_split(X, y, test_size=0.20, random_state=42)"
   ]
  },
  {
   "cell_type": "code",
   "execution_count": 67,
   "id": "6f6fd2a4",
   "metadata": {},
   "outputs": [],
   "source": [
    "# Text processing libraries\n",
    "\n",
    "from tensorflow.keras.preprocessing.sequence import pad_sequences\n",
    "from tensorflow.keras.preprocessing.text import Tokenizer"
   ]
  },
  {
   "cell_type": "code",
   "execution_count": 68,
   "id": "5e79320c",
   "metadata": {},
   "outputs": [],
   "source": [
    "token = Tokenizer()\n",
    "token.fit_on_texts(X_train)"
   ]
  },
  {
   "cell_type": "code",
   "execution_count": 69,
   "id": "7e223ffe",
   "metadata": {},
   "outputs": [
    {
     "name": "stdout",
     "output_type": "stream",
     "text": [
      "[[38, 30, 8, 5, 273, 1989, 81, 116, 26, 11, 1656, 322, 10, 53, 18, 299, 30, 349, 1990], [799, 15, 2555, 1442, 1127, 192, 2556, 171, 12, 98, 1991, 44, 195, 1657, 2557, 1992, 2558, 21, 9, 4, 203, 1025, 225]]\n"
     ]
    }
   ],
   "source": [
    "# Both training and test dataset applied sequences from dictionary\n",
    "\n",
    "encoded_train = token.texts_to_sequences(X_train)\n",
    "encoded_test = token.texts_to_sequences(X_test)\n",
    "print(encoded_train[0:2])"
   ]
  },
  {
   "cell_type": "code",
   "execution_count": 70,
   "id": "16378f2a",
   "metadata": {},
   "outputs": [
    {
     "name": "stdout",
     "output_type": "stream",
     "text": [
      "[[ 322   10   53 ...   30  349 1990]\n",
      " [1992 2558   21 ...  203 1025  225]\n",
      " [  83 1443    4 ...    2 3794 3795]\n",
      " ...\n",
      " [1477   30 2063 ...  239   30 2064]\n",
      " [ 763 1679 1161 ...    0    0    0]\n",
      " [   8  155   20 ...    8  290  175]]\n"
     ]
    }
   ],
   "source": [
    "# Using 8 words padding for both training and testing of dataset\n",
    "\n",
    "max_length = 8\n",
    "\n",
    "padded_train = pad_sequences(encoded_train, maxlen = max_length, padding = 'post')\n",
    "padded_test = pad_sequences(encoded_test, maxlen = max_length, padding = 'post')\n",
    "\n",
    "print(padded_train)"
   ]
  },
  {
   "cell_type": "code",
   "execution_count": 71,
   "id": "d810e0d9",
   "metadata": {},
   "outputs": [],
   "source": [
    "# Import the needed libraries for the model building\n",
    "\n",
    "from tensorflow.keras.models import Sequential\n",
    "from tensorflow.keras.layers import Dense\n",
    "from tensorflow.keras.layers import Flatten\n",
    "from tensorflow.keras.layers import Dropout\n",
    "from tensorflow.keras.layers import Embedding\n",
    "from tensorflow.keras.callbacks import EarlyStopping"
   ]
  },
  {
   "cell_type": "code",
   "execution_count": 72,
   "id": "6584952e",
   "metadata": {
    "scrolled": true
   },
   "outputs": [],
   "source": [
    "vocab_size = len(token.word_index) + 1\n",
    "\n",
    "# Use embedding from Keras to create a deep learning\n",
    "\n",
    "deep_learning = Sequential()\n",
    "deep_learning.add(Embedding(vocab_size, 24, input_length = max_length))\n",
    "deep_learning.add(Flatten())\n",
    "deep_learning.add(Dense(500, activation='relu'))\n",
    "deep_learning.add(Dense(200, activation='relu'))\n",
    "deep_learning.add(Dropout(0.5))\n",
    "deep_learning.add(Dense(100, activation='relu'))\n",
    "deep_learning.add(Dense(1, activation='sigmoid'))"
   ]
  },
  {
   "cell_type": "code",
   "execution_count": 73,
   "id": "9c8e2efa",
   "metadata": {},
   "outputs": [],
   "source": [
    "# Compiling the model\n",
    "deep_learning.compile(optimizer = 'rmsprop', loss = 'binary_crossentropy', metrics = ['accuracy'])"
   ]
  },
  {
   "cell_type": "code",
   "execution_count": 74,
   "id": "fba9dfc5",
   "metadata": {},
   "outputs": [
    {
     "name": "stdout",
     "output_type": "stream",
     "text": [
      "Model: \"sequential_1\"\n",
      "_________________________________________________________________\n",
      " Layer (type)                Output Shape              Param #   \n",
      "=================================================================\n",
      " embedding_1 (Embedding)     (None, 8, 24)             190920    \n",
      "                                                                 \n",
      " flatten_1 (Flatten)         (None, 192)               0         \n",
      "                                                                 \n",
      " dense_4 (Dense)             (None, 500)               96500     \n",
      "                                                                 \n",
      " dense_5 (Dense)             (None, 200)               100200    \n",
      "                                                                 \n",
      " dropout_1 (Dropout)         (None, 200)               0         \n",
      "                                                                 \n",
      " dense_6 (Dense)             (None, 100)               20100     \n",
      "                                                                 \n",
      " dense_7 (Dense)             (None, 1)                 101       \n",
      "                                                                 \n",
      "=================================================================\n",
      "Total params: 407,821\n",
      "Trainable params: 407,821\n",
      "Non-trainable params: 0\n",
      "_________________________________________________________________\n",
      "None\n"
     ]
    }
   ],
   "source": [
    "# Summarizing the model\n",
    "print(deep_learning.summary())"
   ]
  },
  {
   "cell_type": "code",
   "execution_count": 75,
   "id": "ec018ea6",
   "metadata": {
    "scrolled": true
   },
   "outputs": [
    {
     "name": "stdout",
     "output_type": "stream",
     "text": [
      "Epoch 1/50\n",
      "140/140 [==============================] - 1s 3ms/step - loss: 0.1916 - accuracy: 0.9291\n",
      "Epoch 2/50\n",
      "140/140 [==============================] - 0s 2ms/step - loss: 0.0477 - accuracy: 0.9836\n",
      "Epoch 3/50\n",
      "140/140 [==============================] - 0s 2ms/step - loss: 0.0197 - accuracy: 0.9930\n",
      "Epoch 4/50\n",
      "140/140 [==============================] - 0s 2ms/step - loss: 0.0056 - accuracy: 0.9980\n",
      "Epoch 5/50\n",
      "140/140 [==============================] - 0s 2ms/step - loss: 4.5652e-04 - accuracy: 0.9998\n",
      "Epoch 6/50\n",
      "140/140 [==============================] - 0s 2ms/step - loss: 1.3189e-06 - accuracy: 1.0000\n",
      "Epoch 7/50\n",
      "140/140 [==============================] - 0s 3ms/step - loss: 8.7560e-09 - accuracy: 1.0000\n",
      "Epoch 8/50\n",
      "140/140 [==============================] - 0s 2ms/step - loss: 2.4610e-09 - accuracy: 1.0000\n",
      "Epoch 9/50\n",
      "140/140 [==============================] - 0s 2ms/step - loss: 1.4927e-09 - accuracy: 1.0000\n",
      "Epoch 10/50\n",
      "140/140 [==============================] - 0s 2ms/step - loss: 7.0825e-10 - accuracy: 1.0000\n",
      "Epoch 11/50\n",
      "140/140 [==============================] - 0s 3ms/step - loss: 1.1238e-09 - accuracy: 1.0000\n",
      "Epoch 12/50\n",
      "140/140 [==============================] - 0s 2ms/step - loss: 7.3291e-10 - accuracy: 1.0000\n",
      "Epoch 13/50\n",
      "140/140 [==============================] - 0s 2ms/step - loss: 1.9611e-10 - accuracy: 1.0000\n",
      "Epoch 14/50\n",
      "140/140 [==============================] - 0s 3ms/step - loss: 3.7394e-10 - accuracy: 1.0000\n",
      "Epoch 15/50\n",
      "140/140 [==============================] - 0s 2ms/step - loss: 5.7371e-10 - accuracy: 1.0000\n",
      "Epoch 16/50\n",
      "140/140 [==============================] - 0s 2ms/step - loss: 3.6057e-10 - accuracy: 1.0000\n",
      "Epoch 17/50\n",
      "140/140 [==============================] - 0s 2ms/step - loss: 6.5619e-10 - accuracy: 1.0000\n",
      "Epoch 18/50\n",
      "140/140 [==============================] - 0s 2ms/step - loss: 1.6386e-10 - accuracy: 1.0000\n",
      "Epoch 19/50\n",
      "140/140 [==============================] - 0s 2ms/step - loss: 1.9157e-10 - accuracy: 1.0000\n",
      "Epoch 20/50\n",
      "140/140 [==============================] - 0s 3ms/step - loss: 1.1768e-09 - accuracy: 1.0000\n",
      "Epoch 21/50\n",
      "140/140 [==============================] - 0s 2ms/step - loss: 3.6010e-10 - accuracy: 1.0000\n",
      "Epoch 22/50\n",
      "140/140 [==============================] - 0s 2ms/step - loss: 3.8998e-10 - accuracy: 1.0000\n",
      "Epoch 23/50\n",
      "140/140 [==============================] - 0s 2ms/step - loss: 2.4105e-10 - accuracy: 1.0000\n",
      "Epoch 24/50\n",
      "140/140 [==============================] - 0s 2ms/step - loss: 6.1777e-11 - accuracy: 1.0000\n",
      "Epoch 25/50\n",
      "140/140 [==============================] - 0s 2ms/step - loss: 6.0841e-11 - accuracy: 1.0000\n",
      "Epoch 26/50\n",
      "140/140 [==============================] - 0s 3ms/step - loss: 6.6984e-11 - accuracy: 1.0000\n",
      "Epoch 27/50\n",
      "140/140 [==============================] - 0s 2ms/step - loss: 1.0662e-10 - accuracy: 1.0000\n",
      "Epoch 28/50\n",
      "140/140 [==============================] - 0s 2ms/step - loss: 6.7907e-11 - accuracy: 1.0000\n",
      "Epoch 29/50\n",
      "140/140 [==============================] - 0s 3ms/step - loss: 7.0001e-11 - accuracy: 1.0000\n",
      "Epoch 30/50\n",
      "140/140 [==============================] - 0s 2ms/step - loss: 5.1024e-11 - accuracy: 1.0000\n",
      "Epoch 31/50\n",
      "140/140 [==============================] - 0s 2ms/step - loss: 2.9669e-11 - accuracy: 1.0000\n",
      "Epoch 32/50\n",
      "140/140 [==============================] - 0s 3ms/step - loss: 5.4751e-11 - accuracy: 1.0000\n",
      "Epoch 33/50\n",
      "140/140 [==============================] - 0s 2ms/step - loss: 3.0452e-11 - accuracy: 1.0000\n",
      "Epoch 34/50\n",
      "140/140 [==============================] - 0s 2ms/step - loss: 3.4027e-11 - accuracy: 1.0000\n",
      "Epoch 35/50\n",
      "140/140 [==============================] - 0s 2ms/step - loss: 3.5694e-11 - accuracy: 1.0000\n",
      "Epoch 36/50\n",
      "140/140 [==============================] - 0s 2ms/step - loss: 3.5871e-11 - accuracy: 1.0000\n",
      "Epoch 37/50\n",
      "140/140 [==============================] - 0s 2ms/step - loss: 8.4984e-11 - accuracy: 1.0000\n",
      "Epoch 38/50\n",
      "140/140 [==============================] - 0s 3ms/step - loss: 1.8698e-10 - accuracy: 1.0000\n",
      "Epoch 39/50\n",
      "140/140 [==============================] - 0s 2ms/step - loss: 3.6590e-11 - accuracy: 1.0000\n",
      "Epoch 40/50\n",
      "140/140 [==============================] - 0s 2ms/step - loss: 2.2163e-10 - accuracy: 1.0000\n",
      "Epoch 41/50\n",
      "140/140 [==============================] - 0s 2ms/step - loss: 8.0480e-11 - accuracy: 1.0000\n",
      "Epoch 42/50\n",
      "140/140 [==============================] - 0s 2ms/step - loss: 3.6684e-11 - accuracy: 1.0000\n",
      "Epoch 43/50\n",
      "140/140 [==============================] - 0s 2ms/step - loss: 1.2828e-10 - accuracy: 1.0000\n",
      "Epoch 44/50\n",
      "140/140 [==============================] - 0s 3ms/step - loss: 2.6669e-11 - accuracy: 1.0000\n",
      "Epoch 45/50\n",
      "140/140 [==============================] - 0s 2ms/step - loss: 3.3839e-11 - accuracy: 1.0000\n",
      "Epoch 46/50\n",
      "140/140 [==============================] - 0s 2ms/step - loss: 1.0866e-10 - accuracy: 1.0000\n",
      "Epoch 47/50\n",
      "140/140 [==============================] - 0s 2ms/step - loss: 2.9781e-11 - accuracy: 1.0000\n",
      "Epoch 48/50\n",
      "140/140 [==============================] - 0s 2ms/step - loss: 3.7084e-11 - accuracy: 1.0000\n",
      "Epoch 49/50\n",
      "140/140 [==============================] - 0s 2ms/step - loss: 2.6371e-11 - accuracy: 1.0000\n",
      "Epoch 50/50\n",
      "140/140 [==============================] - 0s 3ms/step - loss: 2.9064e-11 - accuracy: 1.0000\n"
     ]
    },
    {
     "data": {
      "text/plain": [
       "<keras.callbacks.History at 0x222c782fa00>"
      ]
     },
     "execution_count": 75,
     "metadata": {},
     "output_type": "execute_result"
    }
   ],
   "source": [
    "early_stop = EarlyStopping(monitor='val_loss', mode='min', verbose=1, patience=10)\n",
    "\n",
    "# fit the model\n",
    "deep_learning.fit(x=padded_train,\n",
    "         y=y_train,\n",
    "         epochs=50,)"
   ]
  },
  {
   "cell_type": "code",
   "execution_count": 51,
   "id": "be209984",
   "metadata": {
    "scrolled": true
   },
   "outputs": [
    {
     "name": "stdout",
     "output_type": "stream",
     "text": [
      "INFO:tensorflow:Assets written to: spam_detection_model\\assets\n"
     ]
    }
   ],
   "source": [
    "deep_learning.save(\"spam_detection_model\")"
   ]
  },
  {
   "cell_type": "code",
   "execution_count": 52,
   "id": "36764a77",
   "metadata": {},
   "outputs": [],
   "source": [
    "import pickle\n",
    "\n",
    "with open('spam_detection_model/tokenizer.pkl', 'wb') as output:\n",
    "   pickle.dump(token, output, pickle.HIGHEST_PROTOCOL)"
   ]
  },
  {
   "cell_type": "code",
   "execution_count": 53,
   "id": "6327a503",
   "metadata": {},
   "outputs": [],
   "source": [
    "import tensorflow as tf\n",
    "\n",
    "model = tf.keras.models.load_model(\"spam_detection_model\")\n",
    "with open('spam_detection_model/tokenizer.pkl', 'rb') as input:\n",
    "    tokenizer = pickle.load(input)"
   ]
  },
  {
   "cell_type": "code",
   "execution_count": 54,
   "id": "aa039ff3",
   "metadata": {
    "scrolled": true
   },
   "outputs": [
    {
     "data": {
      "text/html": [
       "<div>\n",
       "<style scoped>\n",
       "    .dataframe tbody tr th:only-of-type {\n",
       "        vertical-align: middle;\n",
       "    }\n",
       "\n",
       "    .dataframe tbody tr th {\n",
       "        vertical-align: top;\n",
       "    }\n",
       "\n",
       "    .dataframe thead th {\n",
       "        text-align: right;\n",
       "    }\n",
       "</style>\n",
       "<table border=\"1\" class=\"dataframe\">\n",
       "  <thead>\n",
       "    <tr style=\"text-align: right;\">\n",
       "      <th></th>\n",
       "      <th>type</th>\n",
       "      <th>messagex</th>\n",
       "    </tr>\n",
       "  </thead>\n",
       "  <tbody>\n",
       "    <tr>\n",
       "      <th>0</th>\n",
       "      <td>1 ham</td>\n",
       "      <td>Feel Yourself That You Are Always Happy.. Slow...</td>\n",
       "    </tr>\n",
       "    <tr>\n",
       "      <th>1</th>\n",
       "      <td>2 ham</td>\n",
       "      <td>staff.science.nus.edu.sg/~phyhcmk/teaching/pc1323</td>\n",
       "    </tr>\n",
       "    <tr>\n",
       "      <th>2</th>\n",
       "      <td>3 ham</td>\n",
       "      <td>Send me yetty's number pls.</td>\n",
       "    </tr>\n",
       "    <tr>\n",
       "      <th>3</th>\n",
       "      <td>4 ham</td>\n",
       "      <td>Hey so this sat are we going for the intro pil...</td>\n",
       "    </tr>\n",
       "    <tr>\n",
       "      <th>4</th>\n",
       "      <td>5 ham</td>\n",
       "      <td>I got it before the new year cos yetunde said ...</td>\n",
       "    </tr>\n",
       "  </tbody>\n",
       "</table>\n",
       "</div>"
      ],
      "text/plain": [
       "    type                                           messagex\n",
       "0  1 ham  Feel Yourself That You Are Always Happy.. Slow...\n",
       "1  2 ham  staff.science.nus.edu.sg/~phyhcmk/teaching/pc1323\n",
       "2  3 ham                        Send me yetty's number pls.\n",
       "3  4 ham  Hey so this sat are we going for the intro pil...\n",
       "4  5 ham  I got it before the new year cos yetunde said ..."
      ]
     },
     "execution_count": 54,
     "metadata": {},
     "output_type": "execute_result"
    }
   ],
   "source": [
    "ft = pd.read_csv('tuna_spam_output.csv', encoding = 'latin-1')\n",
    "ft.columns=['type', 'messagex']\n",
    "tf = ft['messagex'].values\n",
    "ft.head()"
   ]
  },
  {
   "cell_type": "code",
   "execution_count": 55,
   "id": "52152717",
   "metadata": {
    "scrolled": true
   },
   "outputs": [
    {
     "name": "stdout",
     "output_type": "stream",
     "text": [
      "1/1 [==============================] - 0s 69ms/step\n",
      "[[0], [0], [0], [0], [0], [0], [0], [0], [0], [0], [1], [0], [0], [1], [0], [0], [0], [0], [0], [0]]\n"
     ]
    }
   ],
   "source": [
    "smspredict = token.texts_to_sequences(tf)\n",
    "smspredict = pad_sequences(smspredict, maxlen=max_length, padding='post')\n",
    "pred = (model.predict(smspredict) > 0.5).astype(\"int32\").tolist()\n",
    "print(pred)"
   ]
  },
  {
   "cell_type": "code",
   "execution_count": 56,
   "id": "e8e1ebff",
   "metadata": {
    "scrolled": true
   },
   "outputs": [
    {
     "name": "stdout",
     "output_type": "stream",
     "text": [
      "35/35 [==============================] - 0s 1ms/step\n"
     ]
    },
    {
     "data": {
      "text/plain": [
       "0.97847533632287"
      ]
     },
     "execution_count": 56,
     "metadata": {},
     "output_type": "execute_result"
    }
   ],
   "source": [
    "from sklearn.metrics import confusion_matrix, accuracy_score\n",
    "\n",
    "preds = (deep_learning.predict(padded_test) > 0.5).astype(\"int32\")\n",
    "accuracy_score(y_test, preds)"
   ]
  },
  {
   "cell_type": "code",
   "execution_count": 57,
   "id": "4dd8b48d",
   "metadata": {},
   "outputs": [
    {
     "name": "stdout",
     "output_type": "stream",
     "text": [
      "Accuracy: 0.97847533632287\n"
     ]
    }
   ],
   "source": [
    "print('Accuracy:', accuracy_score(y_test, preds))"
   ]
  },
  {
   "cell_type": "code",
   "execution_count": 58,
   "id": "8eabeb87",
   "metadata": {},
   "outputs": [
    {
     "name": "stdout",
     "output_type": "stream",
     "text": [
      "1/1 [==============================] - 0s 18ms/step\n",
      "[[0], [0], [0], [0], [0], [0], [0], [0], [0], [0], [1], [0], [0], [1], [0], [0], [0], [0], [0], [0]]\n",
      "Accuracy: 0.97847533632287\n"
     ]
    }
   ],
   "source": [
    "smspredict = token.texts_to_sequences(tf)\n",
    "smspredict = pad_sequences(smspredict, maxlen=max_length, padding='post')\n",
    "pred = (model.predict(smspredict) > 0.5).astype(\"int32\").tolist()\n",
    "print(pred)\n",
    "\n",
    "print('Accuracy:', accuracy_score(y_test, preds))"
   ]
  },
  {
   "cell_type": "code",
   "execution_count": null,
   "id": "56b21cd7",
   "metadata": {},
   "outputs": [],
   "source": []
  }
 ],
 "metadata": {
  "kernelspec": {
   "display_name": "Python 3 (ipykernel)",
   "language": "python",
   "name": "python3"
  },
  "language_info": {
   "codemirror_mode": {
    "name": "ipython",
    "version": 3
   },
   "file_extension": ".py",
   "mimetype": "text/x-python",
   "name": "python",
   "nbconvert_exporter": "python",
   "pygments_lexer": "ipython3",
   "version": "3.9.12"
  }
 },
 "nbformat": 4,
 "nbformat_minor": 5
}
