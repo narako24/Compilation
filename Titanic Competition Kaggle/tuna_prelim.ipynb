{
 "cells": [
  {
   "cell_type": "markdown",
   "id": "8cf6f2ca",
   "metadata": {},
   "source": [
    "# Import necessary libraries"
   ]
  },
  {
   "cell_type": "code",
   "execution_count": 347,
   "id": "b0565b15",
   "metadata": {},
   "outputs": [],
   "source": [
    "#Import necessary libraries\n",
    "import numpy as np # Numerical python\n",
    "import pandas as pd # Used for reading pd files\n",
    "import seaborn as sns # Statistical Graphics\n",
    "%matplotlib inline\n",
    "from matplotlib import pyplot as plt # Plotting library\n",
    "from sklearn.svm import SVC, LinearSVC # Model 1 Machine Learning\n",
    "from sklearn.tree import DecisionTreeClassifier # Model 2 Machine Learning \n",
    "from tensorflow.keras.models import Sequential # Model 3 Neural Network\n",
    "from tensorflow.keras.layers import Dense # Classification of output\n",
    "from numpy import loadtxt\n",
    "\n",
    "import os \n",
    "import warnings\n",
    "warnings.filterwarnings('ignore') # To avoid the appearance of errors"
   ]
  },
  {
   "cell_type": "markdown",
   "id": "f260336b",
   "metadata": {},
   "source": [
    "# Load the training and testing dataset"
   ]
  },
  {
   "cell_type": "code",
   "execution_count": 348,
   "id": "b573fc95",
   "metadata": {},
   "outputs": [],
   "source": [
    "training = pd.read_csv(\"train.csv\") # Reading the training data\n",
    "testing = pd.read_csv(\"test.csv\") # Reading the test data\n",
    "std = pd.concat([train_df, test_df], axis=0, sort=True) # Combine the training and testing data"
   ]
  },
  {
   "cell_type": "code",
   "execution_count": 349,
   "id": "2a34db99",
   "metadata": {
    "scrolled": false
   },
   "outputs": [
    {
     "name": "stdout",
     "output_type": "stream",
     "text": [
      "<class 'pandas.core.frame.DataFrame'>\n",
      "RangeIndex: 891 entries, 0 to 890\n",
      "Data columns (total 12 columns):\n",
      " #   Column       Non-Null Count  Dtype  \n",
      "---  ------       --------------  -----  \n",
      " 0   PassengerId  891 non-null    int64  \n",
      " 1   Survived     891 non-null    int64  \n",
      " 2   Pclass       891 non-null    int64  \n",
      " 3   Name         891 non-null    object \n",
      " 4   Sex          891 non-null    object \n",
      " 5   Age          714 non-null    float64\n",
      " 6   SibSp        891 non-null    int64  \n",
      " 7   Parch        891 non-null    int64  \n",
      " 8   Ticket       891 non-null    object \n",
      " 9   Fare         891 non-null    float64\n",
      " 10  Cabin        204 non-null    object \n",
      " 11  Embarked     889 non-null    object \n",
      "dtypes: float64(2), int64(5), object(5)\n",
      "memory usage: 83.7+ KB\n"
     ]
    }
   ],
   "source": [
    "training.info() # Display the statistical data "
   ]
  },
  {
   "cell_type": "markdown",
   "id": "3f3cdd2f",
   "metadata": {},
   "source": [
    "# Validation of datasets"
   ]
  },
  {
   "cell_type": "code",
   "execution_count": 350,
   "id": "fed5a062",
   "metadata": {},
   "outputs": [
    {
     "data": {
      "text/html": [
       "<div>\n",
       "<style scoped>\n",
       "    .dataframe tbody tr th:only-of-type {\n",
       "        vertical-align: middle;\n",
       "    }\n",
       "\n",
       "    .dataframe tbody tr th {\n",
       "        vertical-align: top;\n",
       "    }\n",
       "\n",
       "    .dataframe thead th {\n",
       "        text-align: right;\n",
       "    }\n",
       "</style>\n",
       "<table border=\"1\" class=\"dataframe\">\n",
       "  <thead>\n",
       "    <tr style=\"text-align: right;\">\n",
       "      <th></th>\n",
       "      <th>Total</th>\n",
       "      <th>%</th>\n",
       "    </tr>\n",
       "  </thead>\n",
       "  <tbody>\n",
       "    <tr>\n",
       "      <th>Cabin</th>\n",
       "      <td>687</td>\n",
       "      <td>77.1</td>\n",
       "    </tr>\n",
       "    <tr>\n",
       "      <th>Age</th>\n",
       "      <td>177</td>\n",
       "      <td>19.9</td>\n",
       "    </tr>\n",
       "    <tr>\n",
       "      <th>Embarked</th>\n",
       "      <td>2</td>\n",
       "      <td>0.2</td>\n",
       "    </tr>\n",
       "    <tr>\n",
       "      <th>PassengerId</th>\n",
       "      <td>0</td>\n",
       "      <td>0.0</td>\n",
       "    </tr>\n",
       "    <tr>\n",
       "      <th>Survived</th>\n",
       "      <td>0</td>\n",
       "      <td>0.0</td>\n",
       "    </tr>\n",
       "  </tbody>\n",
       "</table>\n",
       "</div>"
      ],
      "text/plain": [
       "             Total     %\n",
       "Cabin          687  77.1\n",
       "Age            177  19.9\n",
       "Embarked         2   0.2\n",
       "PassengerId      0   0.0\n",
       "Survived         0   0.0"
      ]
     },
     "execution_count": 350,
     "metadata": {},
     "output_type": "execute_result"
    }
   ],
   "source": [
    "# Checking for the null values in the training dataset\n",
    "total = training.isnull().sum().sort_values(ascending=False)\n",
    "percent_1 = training.isnull().sum()/training.isnull().count()*100\n",
    "percent_2 = (round(percent_1, 1)).sort_values(ascending=False)\n",
    "missing_data = pd.concat([total, percent_2], axis=1, keys=['Total', '%'])\n",
    "# Display the training dataset and the null values\n",
    "missing_data.head(5)  "
   ]
  },
  {
   "cell_type": "code",
   "execution_count": 351,
   "id": "f44587b5",
   "metadata": {},
   "outputs": [
    {
     "data": {
      "text/plain": [
       "array(['PassengerId', 'Survived', 'Pclass', 'Name', 'Sex', 'Age', 'SibSp',\n",
       "       'Parch', 'Ticket', 'Fare', 'Cabin', 'Embarked'], dtype=object)"
      ]
     },
     "execution_count": 351,
     "metadata": {},
     "output_type": "execute_result"
    }
   ],
   "source": [
    "training.columns.values # Display the columns in a List of array"
   ]
  },
  {
   "cell_type": "code",
   "execution_count": 352,
   "id": "4d81e8d2",
   "metadata": {},
   "outputs": [
    {
     "data": {
      "image/png": "[encoded data removed]",
      "text/plain": [
       "<Figure size 720x288 with 2 Axes>"
      ]
     },
     "metadata": {
      "needs_background": "light"
     },
     "output_type": "display_data"
    }
   ],
   "source": [
    "# Data visualization for the training data\n",
    "survived = 'survived'\n",
    "not_survived = 'not survived'\n",
    "fig, axes = plt.subplots(nrows=1, ncols=2,figsize=(10, 4))\n",
    "women = training[training['Sex']=='female']\n",
    "men = training[training['Sex']=='male']\n",
    "ax = sns.distplot(women[women['Survived']==1].Age.dropna(), bins=18, label = survived, ax = axes[0], kde =False)\n",
    "ax = sns.distplot(women[women['Survived']==0].Age.dropna(), bins=40, label = not_survived, ax = axes[0], kde =False)\n",
    "ax.legend()\n",
    "ax.set_title('Female')\n",
    "ax = sns.distplot(men[men['Survived']==1].Age.dropna(), bins=18, label = survived, ax = axes[1], kde = False)\n",
    "ax = sns.distplot(men[men['Survived']==0].Age.dropna(), bins=40, label = not_survived, ax = axes[1], kde = False)\n",
    "ax.legend()\n",
    "_ = ax.set_title('Male')"
   ]
  },
  {
   "cell_type": "code",
   "execution_count": 353,
   "id": "554f3b59",
   "metadata": {},
   "outputs": [
    {
     "data": {
      "text/plain": [
       "1    537\n",
       "0    354\n",
       "Name: not_alone, dtype: int64"
      ]
     },
     "execution_count": 353,
     "metadata": {},
     "output_type": "execute_result"
    }
   ],
   "source": [
    "data = [training, testing]\n",
    "for dataset in data:\n",
    "    dataset['relatives'] = dataset['SibSp'] + dataset['Parch']\n",
    "    dataset.loc[dataset['relatives'] > 0, 'not_alone'] = 0\n",
    "    dataset.loc[dataset['relatives'] == 0, 'not_alone'] = 1\n",
    "    dataset['not_alone'] = dataset['not_alone'].astype(int)\n",
    "training['not_alone'].value_counts()"
   ]
  },
  {
   "cell_type": "markdown",
   "id": "4091dc15",
   "metadata": {},
   "source": [
    "# Dropping of unwanted columns in the training dataset"
   ]
  },
  {
   "cell_type": "code",
   "execution_count": 354,
   "id": "3e04de94",
   "metadata": {},
   "outputs": [],
   "source": [
    "# Dropping the unwanted columns of Passengers\n",
    "training = training.drop(['PassengerId'], axis=1) "
   ]
  },
  {
   "cell_type": "code",
   "execution_count": 355,
   "id": "c8f18d2e",
   "metadata": {},
   "outputs": [],
   "source": [
    "# Dropping the unwanted column of Cabin \n",
    "training = training.drop(['Cabin'], axis=1)\n",
    "testing = testing.drop(['Cabin'], axis=1)"
   ]
  },
  {
   "cell_type": "code",
   "execution_count": 356,
   "id": "06b0f187",
   "metadata": {},
   "outputs": [
    {
     "data": {
      "text/plain": [
       "0"
      ]
     },
     "execution_count": 356,
     "metadata": {},
     "output_type": "execute_result"
    }
   ],
   "source": [
    "data = [training, testing]\n",
    "\n",
    "for dataset in data:\n",
    "    mean = training[\"Age\"].mean()\n",
    "    std = testing[\"Age\"].std()\n",
    "    is_null = dataset[\"Age\"].isnull().sum()\n",
    "    \n",
    "    rand_age = np.random.randint(mean - std, mean + std, size = is_null) # Computation of random numbers between std, mean and is_null\n",
    "    \n",
    "    # Filling up the Age Column NaN values \n",
    "    age_slice = dataset[\"Age\"].copy()\n",
    "    age_slice[np.isnan(age_slice)] = rand_age\n",
    "    dataset[\"Age\"] = age_slice\n",
    "    dataset[\"Age\"] = training[\"Age\"].astype(int)\n",
    "training[\"Age\"].isnull().sum()"
   ]
  },
  {
   "cell_type": "code",
   "execution_count": 357,
   "id": "21842c60",
   "metadata": {},
   "outputs": [
    {
     "data": {
      "text/plain": [
       "count     889\n",
       "unique      3\n",
       "top         S\n",
       "freq      644\n",
       "Name: Embarked, dtype: object"
      ]
     },
     "execution_count": 357,
     "metadata": {},
     "output_type": "execute_result"
    }
   ],
   "source": [
    "# Print Embarked Column Values\n",
    "training['Embarked'].describe() "
   ]
  },
  {
   "cell_type": "code",
   "execution_count": 358,
   "id": "dc395489",
   "metadata": {},
   "outputs": [],
   "source": [
    "common_value = 'S'\n",
    "data = [training, testing]\n",
    "\n",
    "for dataset in data:\n",
    "    dataset['Embarked'] = dataset['Embarked'].fillna(common_value)"
   ]
  },
  {
   "cell_type": "code",
   "execution_count": 359,
   "id": "f723a963",
   "metadata": {},
   "outputs": [
    {
     "name": "stdout",
     "output_type": "stream",
     "text": [
      "<class 'pandas.core.frame.DataFrame'>\n",
      "RangeIndex: 891 entries, 0 to 890\n",
      "Data columns (total 12 columns):\n",
      " #   Column     Non-Null Count  Dtype  \n",
      "---  ------     --------------  -----  \n",
      " 0   Survived   891 non-null    int64  \n",
      " 1   Pclass     891 non-null    int64  \n",
      " 2   Name       891 non-null    object \n",
      " 3   Sex        891 non-null    object \n",
      " 4   Age        891 non-null    int32  \n",
      " 5   SibSp      891 non-null    int64  \n",
      " 6   Parch      891 non-null    int64  \n",
      " 7   Ticket     891 non-null    object \n",
      " 8   Fare       891 non-null    float64\n",
      " 9   Embarked   891 non-null    object \n",
      " 10  relatives  891 non-null    int64  \n",
      " 11  not_alone  891 non-null    int32  \n",
      "dtypes: float64(1), int32(2), int64(5), object(4)\n",
      "memory usage: 76.7+ KB\n"
     ]
    }
   ],
   "source": [
    "training.info()"
   ]
  },
  {
   "cell_type": "code",
   "execution_count": 360,
   "id": "e6b0ec01",
   "metadata": {},
   "outputs": [],
   "source": [
    "data = [training, testing]\n",
    "\n",
    "for dataset in data:\n",
    "    dataset['Fare'] = dataset['Fare'].fillna(0)\n",
    "    dataset['Fare'] = dataset['Fare'].astype(int)"
   ]
  },
  {
   "cell_type": "code",
   "execution_count": 361,
   "id": "ea7ede3c",
   "metadata": {},
   "outputs": [],
   "source": [
    "data = [training, testing]\n",
    "titles = {\"Mr\": 1, \"Miss\": 2, \"Mrs\": 3, \"Master\": 4, \"Rare\": 5}\n",
    "\n",
    "for dataset in data:\n",
    "    # Input of the Title\n",
    "    dataset['Title'] = dataset.Name.str.extract(' ([A-Za-z]+)\\.', expand=False)\n",
    "    \n",
    "    # Title replacement of more accurate datanames\n",
    "    dataset['Title'] = dataset['Title'].replace(['Lady', 'Countess','Capt', 'Col','Don', 'Dr',\\\n",
    "                                            'Major', 'Rev', 'Sir', 'Jonkheer', 'Dona'], 'Rare')\n",
    "    dataset['Title'] = dataset['Title'].replace('Mlle', 'Miss')\n",
    "    dataset['Title'] = dataset['Title'].replace('Ms', 'Miss')\n",
    "    dataset['Title'] = dataset['Title'].replace('Mme', 'Mrs')\n",
    "    \n",
    "    # Conversion of Titles into Numerical Values\n",
    "    dataset['Title'] = dataset['Title'].map(titles)\n",
    "    \n",
    "    # NaN with the 0 values\n",
    "    dataset['Title'] = dataset['Title'].fillna(0)\n",
    "training = training.drop(['Name'], axis=1)\n",
    "testing = testing.drop(['Name'], axis=1)"
   ]
  },
  {
   "cell_type": "code",
   "execution_count": 362,
   "id": "629a3963",
   "metadata": {},
   "outputs": [],
   "source": [
    "genders = {\"male\": 0, \"female\": 1}\n",
    "data = [training, testing]\n",
    "\n",
    "for dataset in data:\n",
    "    dataset['Sex'] = dataset['Sex'].map(genders)"
   ]
  },
  {
   "cell_type": "code",
   "execution_count": 363,
   "id": "1494f1c5",
   "metadata": {},
   "outputs": [
    {
     "data": {
      "text/plain": [
       "count        891\n",
       "unique       681\n",
       "top       347082\n",
       "freq           7\n",
       "Name: Ticket, dtype: object"
      ]
     },
     "execution_count": 363,
     "metadata": {},
     "output_type": "execute_result"
    }
   ],
   "source": [
    "training['Ticket'].describe()"
   ]
  },
  {
   "cell_type": "code",
   "execution_count": 364,
   "id": "b26294d4",
   "metadata": {},
   "outputs": [],
   "source": [
    "training = training.drop(['Ticket'], axis=1)\n",
    "testing = testing.drop(['Ticket'], axis=1)"
   ]
  },
  {
   "cell_type": "code",
   "execution_count": 365,
   "id": "55f9b2aa",
   "metadata": {},
   "outputs": [],
   "source": [
    "ports = {\"S\": 0, \"C\": 1, \"Q\": 2}\n",
    "data = [training, testing]\n",
    "\n",
    "for dataset in data:\n",
    "    dataset['Embarked'] = dataset['Embarked'].map(ports)"
   ]
  },
  {
   "cell_type": "code",
   "execution_count": 366,
   "id": "47ba3546",
   "metadata": {},
   "outputs": [],
   "source": [
    "data = [training, testing]\n",
    "for dataset in data:\n",
    "    dataset['Age'] = dataset['Age'].astype(int)\n",
    "    dataset.loc[ dataset['Age'] <= 11, 'Age'] = 0\n",
    "    dataset.loc[(dataset['Age'] > 11) & (dataset['Age'] <= 18), 'Age'] = 1\n",
    "    dataset.loc[(dataset['Age'] > 18) & (dataset['Age'] <= 22), 'Age'] = 2\n",
    "    dataset.loc[(dataset['Age'] > 22) & (dataset['Age'] <= 27), 'Age'] = 3\n",
    "    dataset.loc[(dataset['Age'] > 27) & (dataset['Age'] <= 33), 'Age'] = 4\n",
    "    dataset.loc[(dataset['Age'] > 33) & (dataset['Age'] <= 40), 'Age'] = 5\n",
    "    dataset.loc[(dataset['Age'] > 40) & (dataset['Age'] <= 66), 'Age'] = 6\n",
    "    dataset.loc[ dataset['Age'] > 66, 'Age'] = 6"
   ]
  },
  {
   "cell_type": "code",
   "execution_count": 367,
   "id": "65267819",
   "metadata": {},
   "outputs": [
    {
     "data": {
      "text/html": [
       "<div>\n",
       "<style scoped>\n",
       "    .dataframe tbody tr th:only-of-type {\n",
       "        vertical-align: middle;\n",
       "    }\n",
       "\n",
       "    .dataframe tbody tr th {\n",
       "        vertical-align: top;\n",
       "    }\n",
       "\n",
       "    .dataframe thead th {\n",
       "        text-align: right;\n",
       "    }\n",
       "</style>\n",
       "<table border=\"1\" class=\"dataframe\">\n",
       "  <thead>\n",
       "    <tr style=\"text-align: right;\">\n",
       "      <th></th>\n",
       "      <th>Survived</th>\n",
       "      <th>Pclass</th>\n",
       "      <th>Sex</th>\n",
       "      <th>Age</th>\n",
       "      <th>SibSp</th>\n",
       "      <th>Parch</th>\n",
       "      <th>Fare</th>\n",
       "      <th>Embarked</th>\n",
       "      <th>relatives</th>\n",
       "      <th>not_alone</th>\n",
       "      <th>Title</th>\n",
       "    </tr>\n",
       "  </thead>\n",
       "  <tbody>\n",
       "    <tr>\n",
       "      <th>0</th>\n",
       "      <td>0</td>\n",
       "      <td>3</td>\n",
       "      <td>0</td>\n",
       "      <td>2</td>\n",
       "      <td>1</td>\n",
       "      <td>0</td>\n",
       "      <td>7</td>\n",
       "      <td>0</td>\n",
       "      <td>1</td>\n",
       "      <td>0</td>\n",
       "      <td>1</td>\n",
       "    </tr>\n",
       "    <tr>\n",
       "      <th>1</th>\n",
       "      <td>1</td>\n",
       "      <td>1</td>\n",
       "      <td>1</td>\n",
       "      <td>5</td>\n",
       "      <td>1</td>\n",
       "      <td>0</td>\n",
       "      <td>71</td>\n",
       "      <td>1</td>\n",
       "      <td>1</td>\n",
       "      <td>0</td>\n",
       "      <td>3</td>\n",
       "    </tr>\n",
       "    <tr>\n",
       "      <th>2</th>\n",
       "      <td>1</td>\n",
       "      <td>3</td>\n",
       "      <td>1</td>\n",
       "      <td>3</td>\n",
       "      <td>0</td>\n",
       "      <td>0</td>\n",
       "      <td>7</td>\n",
       "      <td>0</td>\n",
       "      <td>0</td>\n",
       "      <td>1</td>\n",
       "      <td>2</td>\n",
       "    </tr>\n",
       "    <tr>\n",
       "      <th>3</th>\n",
       "      <td>1</td>\n",
       "      <td>1</td>\n",
       "      <td>1</td>\n",
       "      <td>5</td>\n",
       "      <td>1</td>\n",
       "      <td>0</td>\n",
       "      <td>53</td>\n",
       "      <td>0</td>\n",
       "      <td>1</td>\n",
       "      <td>0</td>\n",
       "      <td>3</td>\n",
       "    </tr>\n",
       "    <tr>\n",
       "      <th>4</th>\n",
       "      <td>0</td>\n",
       "      <td>3</td>\n",
       "      <td>0</td>\n",
       "      <td>5</td>\n",
       "      <td>0</td>\n",
       "      <td>0</td>\n",
       "      <td>8</td>\n",
       "      <td>0</td>\n",
       "      <td>0</td>\n",
       "      <td>1</td>\n",
       "      <td>1</td>\n",
       "    </tr>\n",
       "    <tr>\n",
       "      <th>5</th>\n",
       "      <td>0</td>\n",
       "      <td>3</td>\n",
       "      <td>0</td>\n",
       "      <td>4</td>\n",
       "      <td>0</td>\n",
       "      <td>0</td>\n",
       "      <td>8</td>\n",
       "      <td>2</td>\n",
       "      <td>0</td>\n",
       "      <td>1</td>\n",
       "      <td>1</td>\n",
       "    </tr>\n",
       "    <tr>\n",
       "      <th>6</th>\n",
       "      <td>0</td>\n",
       "      <td>1</td>\n",
       "      <td>0</td>\n",
       "      <td>6</td>\n",
       "      <td>0</td>\n",
       "      <td>0</td>\n",
       "      <td>51</td>\n",
       "      <td>0</td>\n",
       "      <td>0</td>\n",
       "      <td>1</td>\n",
       "      <td>1</td>\n",
       "    </tr>\n",
       "    <tr>\n",
       "      <th>7</th>\n",
       "      <td>0</td>\n",
       "      <td>3</td>\n",
       "      <td>0</td>\n",
       "      <td>0</td>\n",
       "      <td>3</td>\n",
       "      <td>1</td>\n",
       "      <td>21</td>\n",
       "      <td>0</td>\n",
       "      <td>4</td>\n",
       "      <td>0</td>\n",
       "      <td>4</td>\n",
       "    </tr>\n",
       "    <tr>\n",
       "      <th>8</th>\n",
       "      <td>1</td>\n",
       "      <td>3</td>\n",
       "      <td>1</td>\n",
       "      <td>3</td>\n",
       "      <td>0</td>\n",
       "      <td>2</td>\n",
       "      <td>11</td>\n",
       "      <td>0</td>\n",
       "      <td>2</td>\n",
       "      <td>0</td>\n",
       "      <td>3</td>\n",
       "    </tr>\n",
       "    <tr>\n",
       "      <th>9</th>\n",
       "      <td>1</td>\n",
       "      <td>2</td>\n",
       "      <td>1</td>\n",
       "      <td>1</td>\n",
       "      <td>1</td>\n",
       "      <td>0</td>\n",
       "      <td>30</td>\n",
       "      <td>1</td>\n",
       "      <td>1</td>\n",
       "      <td>0</td>\n",
       "      <td>3</td>\n",
       "    </tr>\n",
       "  </tbody>\n",
       "</table>\n",
       "</div>"
      ],
      "text/plain": [
       "   Survived  Pclass  Sex  Age  SibSp  Parch  Fare  Embarked  relatives  \\\n",
       "0         0       3    0    2      1      0     7         0          1   \n",
       "1         1       1    1    5      1      0    71         1          1   \n",
       "2         1       3    1    3      0      0     7         0          0   \n",
       "3         1       1    1    5      1      0    53         0          1   \n",
       "4         0       3    0    5      0      0     8         0          0   \n",
       "5         0       3    0    4      0      0     8         2          0   \n",
       "6         0       1    0    6      0      0    51         0          0   \n",
       "7         0       3    0    0      3      1    21         0          4   \n",
       "8         1       3    1    3      0      2    11         0          2   \n",
       "9         1       2    1    1      1      0    30         1          1   \n",
       "\n",
       "   not_alone  Title  \n",
       "0          0      1  \n",
       "1          0      3  \n",
       "2          1      2  \n",
       "3          0      3  \n",
       "4          1      1  \n",
       "5          1      1  \n",
       "6          1      1  \n",
       "7          0      4  \n",
       "8          0      3  \n",
       "9          0      3  "
      ]
     },
     "execution_count": 367,
     "metadata": {},
     "output_type": "execute_result"
    }
   ],
   "source": [
    "# Print of the dataset for validation of Age column\n",
    "training.head(10)"
   ]
  },
  {
   "cell_type": "code",
   "execution_count": 368,
   "id": "d515d0bb",
   "metadata": {},
   "outputs": [],
   "source": [
    "data = [training, testing]\n",
    "\n",
    "for dataset in data:\n",
    "    dataset.loc[ dataset['Fare'] <= 7.91, 'Fare'] = 0\n",
    "    dataset.loc[(dataset['Fare'] > 7.91) & (dataset['Fare'] <= 14.454), 'Fare'] = 1\n",
    "    dataset.loc[(dataset['Fare'] > 14.454) & (dataset['Fare'] <= 31), 'Fare']   = 2\n",
    "    dataset.loc[(dataset['Fare'] > 31) & (dataset['Fare'] <= 99), 'Fare']   = 3\n",
    "    dataset.loc[(dataset['Fare'] > 99) & (dataset['Fare'] <= 250), 'Fare']   = 4\n",
    "    dataset.loc[ dataset['Fare'] > 250, 'Fare'] = 5\n",
    "    dataset['Fare'] = dataset['Fare'].astype(int)"
   ]
  },
  {
   "cell_type": "code",
   "execution_count": 369,
   "id": "47ea0302",
   "metadata": {},
   "outputs": [],
   "source": [
    "data = [training, testing]\n",
    "for dataset in data:\n",
    "    dataset['Age_Class']= dataset['Age']* dataset['Pclass']"
   ]
  },
  {
   "cell_type": "code",
   "execution_count": 370,
   "id": "a42fddfd",
   "metadata": {},
   "outputs": [
    {
     "data": {
      "text/html": [
       "<div>\n",
       "<style scoped>\n",
       "    .dataframe tbody tr th:only-of-type {\n",
       "        vertical-align: middle;\n",
       "    }\n",
       "\n",
       "    .dataframe tbody tr th {\n",
       "        vertical-align: top;\n",
       "    }\n",
       "\n",
       "    .dataframe thead th {\n",
       "        text-align: right;\n",
       "    }\n",
       "</style>\n",
       "<table border=\"1\" class=\"dataframe\">\n",
       "  <thead>\n",
       "    <tr style=\"text-align: right;\">\n",
       "      <th></th>\n",
       "      <th>Survived</th>\n",
       "      <th>Pclass</th>\n",
       "      <th>Sex</th>\n",
       "      <th>Age</th>\n",
       "      <th>SibSp</th>\n",
       "      <th>Parch</th>\n",
       "      <th>Fare</th>\n",
       "      <th>Embarked</th>\n",
       "      <th>relatives</th>\n",
       "      <th>not_alone</th>\n",
       "      <th>Title</th>\n",
       "      <th>Age_Class</th>\n",
       "      <th>Fare_Per_Person</th>\n",
       "    </tr>\n",
       "  </thead>\n",
       "  <tbody>\n",
       "    <tr>\n",
       "      <th>0</th>\n",
       "      <td>0</td>\n",
       "      <td>3</td>\n",
       "      <td>0</td>\n",
       "      <td>2</td>\n",
       "      <td>1</td>\n",
       "      <td>0</td>\n",
       "      <td>0</td>\n",
       "      <td>0</td>\n",
       "      <td>1</td>\n",
       "      <td>0</td>\n",
       "      <td>1</td>\n",
       "      <td>6</td>\n",
       "      <td>0</td>\n",
       "    </tr>\n",
       "    <tr>\n",
       "      <th>1</th>\n",
       "      <td>1</td>\n",
       "      <td>1</td>\n",
       "      <td>1</td>\n",
       "      <td>5</td>\n",
       "      <td>1</td>\n",
       "      <td>0</td>\n",
       "      <td>3</td>\n",
       "      <td>1</td>\n",
       "      <td>1</td>\n",
       "      <td>0</td>\n",
       "      <td>3</td>\n",
       "      <td>5</td>\n",
       "      <td>1</td>\n",
       "    </tr>\n",
       "    <tr>\n",
       "      <th>2</th>\n",
       "      <td>1</td>\n",
       "      <td>3</td>\n",
       "      <td>1</td>\n",
       "      <td>3</td>\n",
       "      <td>0</td>\n",
       "      <td>0</td>\n",
       "      <td>0</td>\n",
       "      <td>0</td>\n",
       "      <td>0</td>\n",
       "      <td>1</td>\n",
       "      <td>2</td>\n",
       "      <td>9</td>\n",
       "      <td>0</td>\n",
       "    </tr>\n",
       "    <tr>\n",
       "      <th>3</th>\n",
       "      <td>1</td>\n",
       "      <td>1</td>\n",
       "      <td>1</td>\n",
       "      <td>5</td>\n",
       "      <td>1</td>\n",
       "      <td>0</td>\n",
       "      <td>3</td>\n",
       "      <td>0</td>\n",
       "      <td>1</td>\n",
       "      <td>0</td>\n",
       "      <td>3</td>\n",
       "      <td>5</td>\n",
       "      <td>1</td>\n",
       "    </tr>\n",
       "    <tr>\n",
       "      <th>4</th>\n",
       "      <td>0</td>\n",
       "      <td>3</td>\n",
       "      <td>0</td>\n",
       "      <td>5</td>\n",
       "      <td>0</td>\n",
       "      <td>0</td>\n",
       "      <td>1</td>\n",
       "      <td>0</td>\n",
       "      <td>0</td>\n",
       "      <td>1</td>\n",
       "      <td>1</td>\n",
       "      <td>15</td>\n",
       "      <td>1</td>\n",
       "    </tr>\n",
       "    <tr>\n",
       "      <th>5</th>\n",
       "      <td>0</td>\n",
       "      <td>3</td>\n",
       "      <td>0</td>\n",
       "      <td>4</td>\n",
       "      <td>0</td>\n",
       "      <td>0</td>\n",
       "      <td>1</td>\n",
       "      <td>2</td>\n",
       "      <td>0</td>\n",
       "      <td>1</td>\n",
       "      <td>1</td>\n",
       "      <td>12</td>\n",
       "      <td>1</td>\n",
       "    </tr>\n",
       "    <tr>\n",
       "      <th>6</th>\n",
       "      <td>0</td>\n",
       "      <td>1</td>\n",
       "      <td>0</td>\n",
       "      <td>6</td>\n",
       "      <td>0</td>\n",
       "      <td>0</td>\n",
       "      <td>3</td>\n",
       "      <td>0</td>\n",
       "      <td>0</td>\n",
       "      <td>1</td>\n",
       "      <td>1</td>\n",
       "      <td>6</td>\n",
       "      <td>3</td>\n",
       "    </tr>\n",
       "    <tr>\n",
       "      <th>7</th>\n",
       "      <td>0</td>\n",
       "      <td>3</td>\n",
       "      <td>0</td>\n",
       "      <td>0</td>\n",
       "      <td>3</td>\n",
       "      <td>1</td>\n",
       "      <td>2</td>\n",
       "      <td>0</td>\n",
       "      <td>4</td>\n",
       "      <td>0</td>\n",
       "      <td>4</td>\n",
       "      <td>0</td>\n",
       "      <td>0</td>\n",
       "    </tr>\n",
       "    <tr>\n",
       "      <th>8</th>\n",
       "      <td>1</td>\n",
       "      <td>3</td>\n",
       "      <td>1</td>\n",
       "      <td>3</td>\n",
       "      <td>0</td>\n",
       "      <td>2</td>\n",
       "      <td>1</td>\n",
       "      <td>0</td>\n",
       "      <td>2</td>\n",
       "      <td>0</td>\n",
       "      <td>3</td>\n",
       "      <td>9</td>\n",
       "      <td>0</td>\n",
       "    </tr>\n",
       "    <tr>\n",
       "      <th>9</th>\n",
       "      <td>1</td>\n",
       "      <td>2</td>\n",
       "      <td>1</td>\n",
       "      <td>1</td>\n",
       "      <td>1</td>\n",
       "      <td>0</td>\n",
       "      <td>2</td>\n",
       "      <td>1</td>\n",
       "      <td>1</td>\n",
       "      <td>0</td>\n",
       "      <td>3</td>\n",
       "      <td>2</td>\n",
       "      <td>1</td>\n",
       "    </tr>\n",
       "  </tbody>\n",
       "</table>\n",
       "</div>"
      ],
      "text/plain": [
       "   Survived  Pclass  Sex  Age  SibSp  Parch  Fare  Embarked  relatives  \\\n",
       "0         0       3    0    2      1      0     0         0          1   \n",
       "1         1       1    1    5      1      0     3         1          1   \n",
       "2         1       3    1    3      0      0     0         0          0   \n",
       "3         1       1    1    5      1      0     3         0          1   \n",
       "4         0       3    0    5      0      0     1         0          0   \n",
       "5         0       3    0    4      0      0     1         2          0   \n",
       "6         0       1    0    6      0      0     3         0          0   \n",
       "7         0       3    0    0      3      1     2         0          4   \n",
       "8         1       3    1    3      0      2     1         0          2   \n",
       "9         1       2    1    1      1      0     2         1          1   \n",
       "\n",
       "   not_alone  Title  Age_Class  Fare_Per_Person  \n",
       "0          0      1          6                0  \n",
       "1          0      3          5                1  \n",
       "2          1      2          9                0  \n",
       "3          0      3          5                1  \n",
       "4          1      1         15                1  \n",
       "5          1      1         12                1  \n",
       "6          1      1          6                3  \n",
       "7          0      4          0                0  \n",
       "8          0      3          9                0  \n",
       "9          0      3          2                1  "
      ]
     },
     "execution_count": 370,
     "metadata": {},
     "output_type": "execute_result"
    }
   ],
   "source": [
    "for dataset in data:\n",
    "    dataset['Fare_Per_Person'] = dataset['Fare']/(dataset['relatives']+1)\n",
    "    dataset['Fare_Per_Person'] = dataset['Fare_Per_Person'].astype(int)\n",
    "\n",
    "# Print of the dataset for validation of Fare column\n",
    "training.head(10)"
   ]
  },
  {
   "cell_type": "markdown",
   "id": "28ac34df",
   "metadata": {},
   "source": [
    "# Splitting of the data"
   ]
  },
  {
   "cell_type": "code",
   "execution_count": 371,
   "id": "6c06bd71",
   "metadata": {},
   "outputs": [],
   "source": [
    "X_train = training.drop(\"Survived\", axis=1)\n",
    "Y_train = training[\"Survived\"]\n",
    "X_test  = testing.drop(\"PassengerId\", axis=1).copy()"
   ]
  },
  {
   "cell_type": "markdown",
   "id": "8b6f8e32",
   "metadata": {},
   "source": [
    "# Support Vector Machine for the 1st model"
   ]
  },
  {
   "cell_type": "code",
   "execution_count": 397,
   "id": "496a1a3f",
   "metadata": {},
   "outputs": [
    {
     "name": "stdout",
     "output_type": "stream",
     "text": [
      "Accuracy of SVM model: 80.7\n"
     ]
    }
   ],
   "source": [
    "# Evaluating the First model SVM\n",
    "linear_svc = LinearSVC()\n",
    "linear_svc.fit(X_train, Y_train)\n",
    "\n",
    "# Inputting the data to start the algorithm training\n",
    "Y_pred = linear_svc.predict(X_test)\n",
    "acc_linear_svc = round(linear_svc.score(X_train, Y_train) * 100, 2)\n",
    "print(\"Accuracy of SVM model:\", acc_linear_svc) "
   ]
  },
  {
   "cell_type": "markdown",
   "id": "6874b1f6",
   "metadata": {},
   "source": [
    "# Decision Tree for the 2nd Model"
   ]
  },
  {
   "cell_type": "code",
   "execution_count": 398,
   "id": "61646bdd",
   "metadata": {
    "scrolled": false
   },
   "outputs": [
    {
     "name": "stdout",
     "output_type": "stream",
     "text": [
      "Accuracy of Decision Tree: 90.8\n"
     ]
    }
   ],
   "source": [
    "# Evaluating the Second model Decision Tree Model\n",
    "decision_tree = DecisionTreeClassifier()                                        \n",
    "\n",
    "# Inputting the data to start the algorithm training\n",
    "decision_tree.fit(X_train, Y_train)  \n",
    "\n",
    "Y_pred = decision_tree.predict(X_test) \n",
    "\n",
    "acc_decision_tree = round(decision_tree.score(X_train, Y_train) * 100, 2)\n",
    "print(\"Accuracy of Decision Tree:\", acc_decision_tree) "
   ]
  },
  {
   "cell_type": "code",
   "execution_count": 387,
   "id": "b13d99e6",
   "metadata": {},
   "outputs": [
    {
     "data": {
      "text/plain": [
       "array([[481,  68],\n",
       "       [104, 238]], dtype=int64)"
      ]
     },
     "execution_count": 387,
     "metadata": {},
     "output_type": "execute_result"
    }
   ],
   "source": [
    "from sklearn.model_selection import cross_val_predict\n",
    "from sklearn.metrics import confusion_matrix\n",
    "predictions = cross_val_predict(random_forest, X_train, Y_train, cv=3)\n",
    "confusion_matrix(Y_train, predictions)"
   ]
  },
  {
   "cell_type": "code",
   "execution_count": 388,
   "id": "134b664b",
   "metadata": {
    "scrolled": false
   },
   "outputs": [
    {
     "data": {
      "text/plain": [
       "array([0, 1, 0, 0, 1, 0, 0, 0, 1, 0, 0, 0, 1, 0, 1, 1, 0, 0, 1, 1, 1, 0,\n",
       "       1, 1, 1, 0, 1, 0, 0, 0, 0, 0, 1, 1, 1, 0, 0, 1, 0, 1, 0, 1, 0, 1,\n",
       "       1, 0, 1, 0, 1, 1, 1, 0, 1, 0, 0, 0, 0, 0, 0, 1, 0, 0, 0, 1, 1, 1,\n",
       "       1, 1, 1, 1, 1, 0, 1, 1, 1, 1, 0, 1, 0, 1, 1, 1, 1, 0, 0, 0, 1, 1,\n",
       "       1, 1, 1, 0, 1, 0, 1, 0, 1, 0, 0, 0, 1, 0, 0, 0, 1, 0, 0, 0, 0, 0,\n",
       "       0, 1, 1, 1, 1, 0, 0, 1, 1, 1, 1, 0, 1, 0, 0, 1, 0, 1, 0, 0, 0, 1,\n",
       "       0, 0, 0, 0, 0, 0, 1, 0, 0, 1, 1, 0, 1, 0, 1, 0, 1, 1, 1, 0, 0, 1,\n",
       "       0, 0, 1, 0, 1, 1, 0, 0, 1, 0, 1, 1, 1, 0, 1, 1, 0, 0, 0, 0, 0, 1,\n",
       "       1, 1, 1, 1, 0, 1, 1, 0, 1, 0, 1, 0, 0, 0, 0, 1, 1, 0, 1, 0, 1, 0,\n",
       "       0, 1, 1, 0, 1, 1, 0, 1, 1, 0, 1, 0, 0, 0, 1, 1, 0, 1, 1, 1, 1, 0,\n",
       "       1, 0, 1, 0, 1, 1, 0, 1, 0, 0, 1, 1, 0, 0, 1, 0, 1, 0, 1, 1, 1, 1,\n",
       "       1, 0, 0, 1, 1, 0, 1, 1, 1, 0, 1, 0, 0, 0, 0, 0, 1, 0, 0, 0, 1, 1,\n",
       "       0, 0, 0, 0, 0, 0, 1, 0, 1, 1, 0, 1, 0, 0, 0, 0, 0, 0, 1, 1, 1, 0,\n",
       "       0, 1, 0, 0, 1, 1, 0, 1, 0, 0, 1, 0, 1, 0, 0, 0, 0, 0, 0, 1, 1, 1,\n",
       "       1, 1, 0, 0, 0, 1, 1, 1, 1, 0, 0, 0, 0, 0, 0, 1, 1, 0, 1, 1, 0, 0,\n",
       "       1, 1, 0, 1, 0, 1, 0, 0, 0, 0, 0, 0, 0, 1, 0, 1, 0, 1, 0, 1, 1, 0,\n",
       "       1, 0, 1, 1, 1, 0, 0, 1, 0, 1, 1, 0, 1, 0, 0, 1, 1, 0, 0, 1, 0, 0,\n",
       "       1, 1, 1, 0, 1, 0, 0, 0, 1, 1, 0, 1, 0, 0, 0, 0, 1, 1, 1, 0, 0, 1,\n",
       "       0, 1, 0, 0, 1, 0, 1, 1, 1, 0, 0, 1, 1, 1, 0, 1, 0, 0, 1, 0, 0, 1],\n",
       "      dtype=int64)"
      ]
     },
     "execution_count": 388,
     "metadata": {},
     "output_type": "execute_result"
    }
   ],
   "source": [
    "# Print array evaluated by the 1st model\n",
    "Y_prediction"
   ]
  },
  {
   "cell_type": "code",
   "execution_count": 389,
   "id": "d4da12d0",
   "metadata": {},
   "outputs": [
    {
     "data": {
      "text/plain": [
       "array([0, 1, 0, 0, 1, 0, 1, 1, 1, 0, 0, 0, 1, 0, 1, 1, 0, 0, 0, 1, 0, 1,\n",
       "       1, 1, 1, 0, 1, 0, 1, 0, 0, 0, 1, 0, 0, 0, 0, 0, 0, 0, 0, 1, 0, 1,\n",
       "       1, 0, 1, 0, 1, 1, 1, 0, 1, 1, 0, 0, 1, 0, 1, 1, 1, 0, 0, 1, 1, 1,\n",
       "       1, 0, 0, 1, 1, 0, 1, 1, 1, 0, 0, 1, 1, 1, 1, 0, 0, 0, 1, 0, 1, 1,\n",
       "       1, 1, 0, 1, 1, 0, 0, 0, 1, 0, 0, 0, 1, 0, 0, 0, 1, 0, 0, 0, 0, 0,\n",
       "       0, 1, 1, 1, 1, 0, 0, 0, 1, 1, 1, 0, 1, 0, 0, 1, 0, 1, 0, 0, 0, 1,\n",
       "       0, 0, 0, 0, 0, 0, 1, 0, 0, 1, 0, 0, 0, 0, 1, 0, 1, 1, 1, 0, 0, 1,\n",
       "       0, 0, 1, 0, 0, 1, 1, 1, 1, 0, 1, 1, 0, 0, 1, 0, 0, 1, 1, 0, 0, 1,\n",
       "       0, 1, 1, 1, 0, 1, 1, 1, 1, 0, 1, 0, 0, 0, 0, 0, 0, 0, 1, 0, 1, 0,\n",
       "       0, 0, 0, 1, 1, 1, 0, 0, 1, 0, 1, 0, 0, 0, 0, 1, 0, 0, 1, 0, 1, 0,\n",
       "       0, 0, 1, 0, 1, 1, 1, 1, 0, 0, 0, 1, 0, 1, 1, 0, 1, 1, 1, 1, 1, 1,\n",
       "       0, 1, 0, 0, 1, 0, 1, 0, 1, 0, 1, 0, 0, 0, 0, 0, 1, 0, 0, 0, 1, 0,\n",
       "       0, 0, 0, 0, 0, 0, 0, 0, 1, 1, 0, 0, 0, 0, 1, 0, 0, 0, 1, 1, 0, 0,\n",
       "       0, 0, 0, 0, 1, 1, 0, 1, 0, 0, 1, 1, 1, 0, 1, 0, 0, 0, 0, 1, 1, 1,\n",
       "       0, 0, 0, 0, 0, 1, 1, 1, 1, 0, 0, 0, 1, 0, 0, 0, 1, 0, 1, 0, 0, 0,\n",
       "       1, 0, 0, 1, 0, 0, 0, 0, 0, 1, 1, 0, 0, 1, 1, 1, 0, 0, 1, 1, 1, 0,\n",
       "       0, 0, 1, 0, 1, 0, 0, 0, 0, 1, 1, 0, 1, 0, 0, 0, 1, 0, 0, 1, 0, 1,\n",
       "       1, 0, 0, 0, 0, 0, 0, 1, 1, 1, 0, 1, 0, 0, 0, 0, 0, 1, 0, 0, 0, 1,\n",
       "       0, 1, 0, 0, 1, 0, 1, 0, 1, 0, 0, 0, 1, 1, 1, 1, 0, 0, 1, 0, 0, 1],\n",
       "      dtype=int64)"
      ]
     },
     "execution_count": 389,
     "metadata": {},
     "output_type": "execute_result"
    }
   ],
   "source": [
    "# Print array evaluated by the 2nd model\n",
    "Y_predictionn"
   ]
  },
  {
   "cell_type": "markdown",
   "id": "bb88a9fc",
   "metadata": {},
   "source": [
    "# Neural Networks for the 3rd model"
   ]
  },
  {
   "cell_type": "code",
   "execution_count": 390,
   "id": "1999e5a0",
   "metadata": {},
   "outputs": [],
   "source": [
    "# Define the Keras model\n",
    "model = Sequential()\n",
    "model.add(Dense(256, input_shape=(X_train.shape[1],), activation='sigmoid'))\n",
    "\n",
    "# Use input shape as (8,) because there are 8 features that we need\n",
    "model.add(Dense(12, input_shape=(8,), activation='relu')) \n",
    "\n",
    "# The Hidden Layer\n",
    "model.add(Dense(8, activation='relu'))\n",
    "\n",
    "# The Output layer (1 output for classification in this case)\n",
    "model.add(Dense(1, activation='sigmoid')) "
   ]
  },
  {
   "cell_type": "code",
   "execution_count": 391,
   "id": "3c81f17f",
   "metadata": {},
   "outputs": [],
   "source": [
    "# Compiling the Keras Model\n",
    "model.compile(loss='binary_crossentropy', optimizer='adam', metrics=['accuracy']) # Adjustment for model weights training"
   ]
  },
  {
   "cell_type": "code",
   "execution_count": 392,
   "id": "5946d561",
   "metadata": {},
   "outputs": [
    {
     "name": "stdout",
     "output_type": "stream",
     "text": [
      "Epoch 1/150\n",
      "90/90 [==============================] - 1s 2ms/step - loss: 0.6419 - accuracy: 0.6139\n",
      "Epoch 2/150\n",
      "90/90 [==============================] - 0s 2ms/step - loss: 0.5303 - accuracy: 0.7441\n",
      "Epoch 3/150\n",
      "90/90 [==============================] - 0s 1ms/step - loss: 0.4808 - accuracy: 0.7789\n",
      "Epoch 4/150\n",
      "90/90 [==============================] - 0s 1ms/step - loss: 0.4626 - accuracy: 0.8002\n",
      "Epoch 5/150\n",
      "90/90 [==============================] - 0s 1ms/step - loss: 0.4540 - accuracy: 0.8058\n",
      "Epoch 6/150\n",
      "90/90 [==============================] - 0s 1ms/step - loss: 0.4481 - accuracy: 0.8047\n",
      "Epoch 7/150\n",
      "90/90 [==============================] - 0s 1ms/step - loss: 0.4491 - accuracy: 0.8047\n",
      "Epoch 8/150\n",
      "90/90 [==============================] - 0s 1ms/step - loss: 0.4440 - accuracy: 0.8070\n",
      "Epoch 9/150\n",
      "90/90 [==============================] - 0s 2ms/step - loss: 0.4425 - accuracy: 0.8148\n",
      "Epoch 10/150\n",
      "90/90 [==============================] - 0s 1ms/step - loss: 0.4378 - accuracy: 0.8070\n",
      "Epoch 11/150\n",
      "90/90 [==============================] - 0s 1ms/step - loss: 0.4381 - accuracy: 0.8171\n",
      "Epoch 12/150\n",
      "90/90 [==============================] - 0s 1ms/step - loss: 0.4401 - accuracy: 0.8103\n",
      "Epoch 13/150\n",
      "90/90 [==============================] - 0s 1ms/step - loss: 0.4342 - accuracy: 0.8148\n",
      "Epoch 14/150\n",
      "90/90 [==============================] - 0s 2ms/step - loss: 0.4462 - accuracy: 0.8047\n",
      "Epoch 15/150\n",
      "90/90 [==============================] - 0s 3ms/step - loss: 0.4264 - accuracy: 0.8126\n",
      "Epoch 16/150\n",
      "90/90 [==============================] - 0s 2ms/step - loss: 0.4320 - accuracy: 0.8171\n",
      "Epoch 17/150\n",
      "90/90 [==============================] - 0s 3ms/step - loss: 0.4315 - accuracy: 0.8103\n",
      "Epoch 18/150\n",
      "90/90 [==============================] - 0s 2ms/step - loss: 0.4345 - accuracy: 0.8159\n",
      "Epoch 19/150\n",
      "90/90 [==============================] - 0s 2ms/step - loss: 0.4410 - accuracy: 0.8070\n",
      "Epoch 20/150\n",
      "90/90 [==============================] - 0s 2ms/step - loss: 0.4451 - accuracy: 0.7991\n",
      "Epoch 21/150\n",
      "90/90 [==============================] - 0s 2ms/step - loss: 0.4305 - accuracy: 0.8171\n",
      "Epoch 22/150\n",
      "90/90 [==============================] - 0s 2ms/step - loss: 0.4376 - accuracy: 0.8036\n",
      "Epoch 23/150\n",
      "90/90 [==============================] - 0s 2ms/step - loss: 0.4305 - accuracy: 0.8171\n",
      "Epoch 24/150\n",
      "90/90 [==============================] - 0s 2ms/step - loss: 0.4463 - accuracy: 0.8002\n",
      "Epoch 25/150\n",
      "90/90 [==============================] - 0s 2ms/step - loss: 0.4359 - accuracy: 0.8081\n",
      "Epoch 26/150\n",
      "90/90 [==============================] - 0s 2ms/step - loss: 0.4316 - accuracy: 0.8126\n",
      "Epoch 27/150\n",
      "90/90 [==============================] - 0s 2ms/step - loss: 0.4262 - accuracy: 0.8159\n",
      "Epoch 28/150\n",
      "90/90 [==============================] - 0s 2ms/step - loss: 0.4259 - accuracy: 0.8070\n",
      "Epoch 29/150\n",
      "90/90 [==============================] - 0s 1ms/step - loss: 0.4329 - accuracy: 0.8092\n",
      "Epoch 30/150\n",
      "90/90 [==============================] - 0s 2ms/step - loss: 0.4298 - accuracy: 0.8137\n",
      "Epoch 31/150\n",
      "90/90 [==============================] - 0s 2ms/step - loss: 0.4325 - accuracy: 0.8081\n",
      "Epoch 32/150\n",
      "90/90 [==============================] - 0s 2ms/step - loss: 0.4305 - accuracy: 0.8126\n",
      "Epoch 33/150\n",
      "90/90 [==============================] - 0s 2ms/step - loss: 0.4276 - accuracy: 0.8227\n",
      "Epoch 34/150\n",
      "90/90 [==============================] - 0s 2ms/step - loss: 0.4284 - accuracy: 0.8215\n",
      "Epoch 35/150\n",
      "90/90 [==============================] - 0s 1ms/step - loss: 0.4282 - accuracy: 0.8148\n",
      "Epoch 36/150\n",
      "90/90 [==============================] - 0s 2ms/step - loss: 0.4244 - accuracy: 0.8260\n",
      "Epoch 37/150\n",
      "90/90 [==============================] - 0s 2ms/step - loss: 0.4276 - accuracy: 0.8193\n",
      "Epoch 38/150\n",
      "90/90 [==============================] - 0s 2ms/step - loss: 0.4255 - accuracy: 0.8193\n",
      "Epoch 39/150\n",
      "90/90 [==============================] - 0s 2ms/step - loss: 0.4209 - accuracy: 0.8227\n",
      "Epoch 40/150\n",
      "90/90 [==============================] - 0s 1ms/step - loss: 0.4221 - accuracy: 0.8204\n",
      "Epoch 41/150\n",
      "90/90 [==============================] - 0s 2ms/step - loss: 0.4253 - accuracy: 0.8238\n",
      "Epoch 42/150\n",
      "90/90 [==============================] - 0s 2ms/step - loss: 0.4186 - accuracy: 0.8260\n",
      "Epoch 43/150\n",
      "90/90 [==============================] - 0s 1ms/step - loss: 0.4202 - accuracy: 0.8148\n",
      "Epoch 44/150\n",
      "90/90 [==============================] - 0s 1ms/step - loss: 0.4263 - accuracy: 0.8249\n",
      "Epoch 45/150\n",
      "90/90 [==============================] - 0s 1ms/step - loss: 0.4195 - accuracy: 0.8215\n",
      "Epoch 46/150\n",
      "90/90 [==============================] - 0s 2ms/step - loss: 0.4153 - accuracy: 0.8249\n",
      "Epoch 47/150\n",
      "90/90 [==============================] - 0s 1ms/step - loss: 0.4168 - accuracy: 0.8305\n",
      "Epoch 48/150\n",
      "90/90 [==============================] - 0s 2ms/step - loss: 0.4192 - accuracy: 0.8193\n",
      "Epoch 49/150\n",
      "90/90 [==============================] - 0s 2ms/step - loss: 0.4257 - accuracy: 0.8159\n",
      "Epoch 50/150\n",
      "90/90 [==============================] - 0s 2ms/step - loss: 0.4226 - accuracy: 0.8159\n",
      "Epoch 51/150\n",
      "90/90 [==============================] - 0s 2ms/step - loss: 0.4154 - accuracy: 0.8182\n",
      "Epoch 52/150\n",
      "90/90 [==============================] - 0s 1ms/step - loss: 0.4135 - accuracy: 0.8339\n",
      "Epoch 53/150\n",
      "90/90 [==============================] - 0s 2ms/step - loss: 0.4142 - accuracy: 0.8294\n",
      "Epoch 54/150\n",
      "90/90 [==============================] - 0s 1ms/step - loss: 0.4148 - accuracy: 0.8159\n",
      "Epoch 55/150\n",
      "90/90 [==============================] - 0s 1ms/step - loss: 0.4104 - accuracy: 0.8260\n",
      "Epoch 56/150\n",
      "90/90 [==============================] - 0s 2ms/step - loss: 0.4111 - accuracy: 0.8305\n",
      "Epoch 57/150\n",
      "90/90 [==============================] - 0s 2ms/step - loss: 0.4215 - accuracy: 0.8294\n",
      "Epoch 58/150\n",
      "90/90 [==============================] - 0s 2ms/step - loss: 0.4103 - accuracy: 0.8249\n",
      "Epoch 59/150\n",
      "90/90 [==============================] - 0s 2ms/step - loss: 0.4074 - accuracy: 0.8260\n",
      "Epoch 60/150\n",
      "90/90 [==============================] - 0s 2ms/step - loss: 0.4106 - accuracy: 0.8305\n",
      "Epoch 61/150\n",
      "90/90 [==============================] - 0s 2ms/step - loss: 0.4117 - accuracy: 0.8305\n",
      "Epoch 62/150\n",
      "90/90 [==============================] - 0s 2ms/step - loss: 0.4093 - accuracy: 0.8260\n",
      "Epoch 63/150\n",
      "90/90 [==============================] - 0s 2ms/step - loss: 0.4072 - accuracy: 0.8395\n",
      "Epoch 64/150\n",
      "90/90 [==============================] - 0s 2ms/step - loss: 0.4121 - accuracy: 0.8328\n",
      "Epoch 65/150\n",
      "90/90 [==============================] - 0s 2ms/step - loss: 0.4047 - accuracy: 0.8373\n",
      "Epoch 66/150\n",
      "90/90 [==============================] - 0s 2ms/step - loss: 0.4013 - accuracy: 0.8395\n",
      "Epoch 67/150\n",
      "90/90 [==============================] - 0s 2ms/step - loss: 0.4098 - accuracy: 0.8283\n",
      "Epoch 68/150\n",
      "90/90 [==============================] - 0s 2ms/step - loss: 0.4049 - accuracy: 0.8328\n",
      "Epoch 69/150\n",
      "90/90 [==============================] - 0s 2ms/step - loss: 0.4067 - accuracy: 0.8260\n",
      "Epoch 70/150\n",
      "90/90 [==============================] - 0s 2ms/step - loss: 0.4111 - accuracy: 0.8350\n",
      "Epoch 71/150\n",
      "90/90 [==============================] - 0s 2ms/step - loss: 0.4044 - accuracy: 0.8361\n",
      "Epoch 72/150\n",
      "90/90 [==============================] - 0s 1ms/step - loss: 0.4077 - accuracy: 0.8260\n",
      "Epoch 73/150\n",
      "90/90 [==============================] - 0s 1ms/step - loss: 0.4075 - accuracy: 0.8339\n",
      "Epoch 74/150\n",
      "90/90 [==============================] - 0s 2ms/step - loss: 0.4166 - accuracy: 0.8204\n",
      "Epoch 75/150\n",
      "90/90 [==============================] - 0s 2ms/step - loss: 0.4017 - accuracy: 0.8316\n",
      "Epoch 76/150\n",
      "90/90 [==============================] - 0s 2ms/step - loss: 0.4059 - accuracy: 0.8305\n",
      "Epoch 77/150\n",
      "90/90 [==============================] - 0s 1ms/step - loss: 0.4020 - accuracy: 0.8373\n",
      "Epoch 78/150\n",
      "90/90 [==============================] - 0s 2ms/step - loss: 0.4047 - accuracy: 0.8361\n",
      "Epoch 79/150\n",
      "90/90 [==============================] - 0s 1ms/step - loss: 0.4011 - accuracy: 0.8260\n",
      "Epoch 80/150\n",
      "90/90 [==============================] - 0s 1ms/step - loss: 0.4020 - accuracy: 0.8272\n",
      "Epoch 81/150\n",
      "90/90 [==============================] - 0s 2ms/step - loss: 0.4008 - accuracy: 0.8339\n",
      "Epoch 82/150\n",
      "90/90 [==============================] - 0s 1ms/step - loss: 0.4031 - accuracy: 0.8373\n",
      "Epoch 83/150\n"
     ]
    },
    {
     "name": "stdout",
     "output_type": "stream",
     "text": [
      "90/90 [==============================] - 0s 1ms/step - loss: 0.4013 - accuracy: 0.8305\n",
      "Epoch 84/150\n",
      "90/90 [==============================] - 0s 1ms/step - loss: 0.4011 - accuracy: 0.8294\n",
      "Epoch 85/150\n",
      "90/90 [==============================] - 0s 1ms/step - loss: 0.4052 - accuracy: 0.8272\n",
      "Epoch 86/150\n",
      "90/90 [==============================] - 0s 2ms/step - loss: 0.4015 - accuracy: 0.8305\n",
      "Epoch 87/150\n",
      "90/90 [==============================] - 0s 2ms/step - loss: 0.4027 - accuracy: 0.8339\n",
      "Epoch 88/150\n",
      "90/90 [==============================] - 0s 1ms/step - loss: 0.3992 - accuracy: 0.8373\n",
      "Epoch 89/150\n",
      "90/90 [==============================] - 0s 1ms/step - loss: 0.4060 - accuracy: 0.8316\n",
      "Epoch 90/150\n",
      "90/90 [==============================] - 0s 2ms/step - loss: 0.3995 - accuracy: 0.8339\n",
      "Epoch 91/150\n",
      "90/90 [==============================] - 0s 1ms/step - loss: 0.3960 - accuracy: 0.8406\n",
      "Epoch 92/150\n",
      "90/90 [==============================] - 0s 1ms/step - loss: 0.3978 - accuracy: 0.8328\n",
      "Epoch 93/150\n",
      "90/90 [==============================] - 0s 1ms/step - loss: 0.3958 - accuracy: 0.8384\n",
      "Epoch 94/150\n",
      "90/90 [==============================] - 0s 1ms/step - loss: 0.3950 - accuracy: 0.8373\n",
      "Epoch 95/150\n",
      "90/90 [==============================] - 0s 1ms/step - loss: 0.4018 - accuracy: 0.8339\n",
      "Epoch 96/150\n",
      "90/90 [==============================] - 0s 1ms/step - loss: 0.3974 - accuracy: 0.8305\n",
      "Epoch 97/150\n",
      "90/90 [==============================] - 0s 2ms/step - loss: 0.4023 - accuracy: 0.8283\n",
      "Epoch 98/150\n",
      "90/90 [==============================] - 0s 1ms/step - loss: 0.4034 - accuracy: 0.8294\n",
      "Epoch 99/150\n",
      "90/90 [==============================] - 0s 1ms/step - loss: 0.3929 - accuracy: 0.8373\n",
      "Epoch 100/150\n",
      "90/90 [==============================] - 0s 1ms/step - loss: 0.3950 - accuracy: 0.8395\n",
      "Epoch 101/150\n",
      "90/90 [==============================] - 0s 1ms/step - loss: 0.3990 - accuracy: 0.8260\n",
      "Epoch 102/150\n",
      "90/90 [==============================] - 0s 1ms/step - loss: 0.3933 - accuracy: 0.8339\n",
      "Epoch 103/150\n",
      "90/90 [==============================] - 0s 2ms/step - loss: 0.4005 - accuracy: 0.8215\n",
      "Epoch 104/150\n",
      "90/90 [==============================] - 0s 1ms/step - loss: 0.4038 - accuracy: 0.8384\n",
      "Epoch 105/150\n",
      "90/90 [==============================] - 0s 1ms/step - loss: 0.3936 - accuracy: 0.8305\n",
      "Epoch 106/150\n",
      "90/90 [==============================] - 0s 1ms/step - loss: 0.3957 - accuracy: 0.8406\n",
      "Epoch 107/150\n",
      "90/90 [==============================] - 0s 1ms/step - loss: 0.3954 - accuracy: 0.8361\n",
      "Epoch 108/150\n",
      "90/90 [==============================] - 0s 2ms/step - loss: 0.3963 - accuracy: 0.8361\n",
      "Epoch 109/150\n",
      "90/90 [==============================] - 0s 1ms/step - loss: 0.3987 - accuracy: 0.8272\n",
      "Epoch 110/150\n",
      "90/90 [==============================] - 0s 2ms/step - loss: 0.4031 - accuracy: 0.8260\n",
      "Epoch 111/150\n",
      "90/90 [==============================] - 0s 1ms/step - loss: 0.3949 - accuracy: 0.8395\n",
      "Epoch 112/150\n",
      "90/90 [==============================] - 0s 1ms/step - loss: 0.3994 - accuracy: 0.8339\n",
      "Epoch 113/150\n",
      "90/90 [==============================] - 0s 2ms/step - loss: 0.3919 - accuracy: 0.8373\n",
      "Epoch 114/150\n",
      "90/90 [==============================] - 0s 1ms/step - loss: 0.3944 - accuracy: 0.8260\n",
      "Epoch 115/150\n",
      "90/90 [==============================] - 0s 1ms/step - loss: 0.3910 - accuracy: 0.8350\n",
      "Epoch 116/150\n",
      "90/90 [==============================] - 0s 2ms/step - loss: 0.3918 - accuracy: 0.8440\n",
      "Epoch 117/150\n",
      "90/90 [==============================] - 0s 1ms/step - loss: 0.3909 - accuracy: 0.8384\n",
      "Epoch 118/150\n",
      "90/90 [==============================] - 0s 1ms/step - loss: 0.3935 - accuracy: 0.8361\n",
      "Epoch 119/150\n",
      "90/90 [==============================] - 0s 2ms/step - loss: 0.3944 - accuracy: 0.8406\n",
      "Epoch 120/150\n",
      "90/90 [==============================] - 0s 1ms/step - loss: 0.3959 - accuracy: 0.8350\n",
      "Epoch 121/150\n",
      "90/90 [==============================] - 0s 1ms/step - loss: 0.3906 - accuracy: 0.8451\n",
      "Epoch 122/150\n",
      "90/90 [==============================] - 0s 1ms/step - loss: 0.3950 - accuracy: 0.8316\n",
      "Epoch 123/150\n",
      "90/90 [==============================] - 0s 1ms/step - loss: 0.3944 - accuracy: 0.8328\n",
      "Epoch 124/150\n",
      "90/90 [==============================] - 0s 1ms/step - loss: 0.3917 - accuracy: 0.8283\n",
      "Epoch 125/150\n",
      "90/90 [==============================] - 0s 1ms/step - loss: 0.3925 - accuracy: 0.8339\n",
      "Epoch 126/150\n",
      "90/90 [==============================] - 0s 2ms/step - loss: 0.3897 - accuracy: 0.8418\n",
      "Epoch 127/150\n",
      "90/90 [==============================] - 0s 1ms/step - loss: 0.3914 - accuracy: 0.8361\n",
      "Epoch 128/150\n",
      "90/90 [==============================] - 0s 1ms/step - loss: 0.3927 - accuracy: 0.8384\n",
      "Epoch 129/150\n",
      "90/90 [==============================] - 0s 1ms/step - loss: 0.3939 - accuracy: 0.8373\n",
      "Epoch 130/150\n",
      "90/90 [==============================] - 0s 1ms/step - loss: 0.3944 - accuracy: 0.8384\n",
      "Epoch 131/150\n",
      "90/90 [==============================] - 0s 1ms/step - loss: 0.3893 - accuracy: 0.8373\n",
      "Epoch 132/150\n",
      "90/90 [==============================] - 0s 1ms/step - loss: 0.3928 - accuracy: 0.8384\n",
      "Epoch 133/150\n",
      "90/90 [==============================] - 0s 1ms/step - loss: 0.3888 - accuracy: 0.8395\n",
      "Epoch 134/150\n",
      "90/90 [==============================] - 0s 1ms/step - loss: 0.3920 - accuracy: 0.8294\n",
      "Epoch 135/150\n",
      "90/90 [==============================] - 0s 1ms/step - loss: 0.3884 - accuracy: 0.8350\n",
      "Epoch 136/150\n",
      "90/90 [==============================] - 0s 1ms/step - loss: 0.3896 - accuracy: 0.8294\n",
      "Epoch 137/150\n",
      "90/90 [==============================] - 0s 2ms/step - loss: 0.3907 - accuracy: 0.8339\n",
      "Epoch 138/150\n",
      "90/90 [==============================] - 0s 1ms/step - loss: 0.3905 - accuracy: 0.8350\n",
      "Epoch 139/150\n",
      "90/90 [==============================] - 0s 1ms/step - loss: 0.3881 - accuracy: 0.8395\n",
      "Epoch 140/150\n",
      "90/90 [==============================] - 0s 1ms/step - loss: 0.3909 - accuracy: 0.8373\n",
      "Epoch 141/150\n",
      "90/90 [==============================] - 0s 1ms/step - loss: 0.3878 - accuracy: 0.8350\n",
      "Epoch 142/150\n",
      "90/90 [==============================] - 0s 1ms/step - loss: 0.3890 - accuracy: 0.8395\n",
      "Epoch 143/150\n",
      "90/90 [==============================] - 0s 1ms/step - loss: 0.3942 - accuracy: 0.8305\n",
      "Epoch 144/150\n",
      "90/90 [==============================] - 0s 1ms/step - loss: 0.3940 - accuracy: 0.8305\n",
      "Epoch 145/150\n",
      "90/90 [==============================] - 0s 2ms/step - loss: 0.3901 - accuracy: 0.8418\n",
      "Epoch 146/150\n",
      "90/90 [==============================] - 0s 1ms/step - loss: 0.3912 - accuracy: 0.8361\n",
      "Epoch 147/150\n",
      "90/90 [==============================] - 0s 2ms/step - loss: 0.3937 - accuracy: 0.8339\n",
      "Epoch 148/150\n",
      "90/90 [==============================] - 0s 2ms/step - loss: 0.3901 - accuracy: 0.8384\n",
      "Epoch 149/150\n",
      "90/90 [==============================] - 0s 2ms/step - loss: 0.3917 - accuracy: 0.8395\n",
      "Epoch 150/150\n",
      "90/90 [==============================] - 0s 1ms/step - loss: 0.3882 - accuracy: 0.8384\n"
     ]
    },
    {
     "data": {
      "text/plain": [
       "<keras.callbacks.History at 0x209f9060430>"
      ]
     },
     "execution_count": 392,
     "metadata": {},
     "output_type": "execute_result"
    }
   ],
   "source": [
    "# Fitting the Keras Model on the dataset\n",
    "model.fit(X_train, Y_train, epochs=150, batch_size=10) # Training of the neural network"
   ]
  },
  {
   "cell_type": "code",
   "execution_count": 393,
   "id": "c9d36ba6",
   "metadata": {
    "scrolled": false
   },
   "outputs": [
    {
     "name": "stdout",
     "output_type": "stream",
     "text": [
      "28/28 [==============================] - 0s 1ms/step - loss: 0.3980 - accuracy: 0.8316\n",
      "Accuracy of Neural Networks: 83.00\n"
     ]
    }
   ],
   "source": [
    "NN, accuracy = model.evaluate(X_train, Y_train)\n",
    "print('Accuracy of Neural Networks: %.2f' % round(accuracy*100))"
   ]
  },
  {
   "cell_type": "code",
   "execution_count": 394,
   "id": "b50dd03c",
   "metadata": {},
   "outputs": [
    {
     "name": "stdout",
     "output_type": "stream",
     "text": [
      "28/28 [==============================] - 0s 960us/step\n"
     ]
    }
   ],
   "source": [
    "predictions = (model.predict(X_train) > 0.5).astype(int)"
   ]
  },
  {
   "cell_type": "markdown",
   "id": "51c5ce2e",
   "metadata": {},
   "source": [
    "# Evaluation of the used models"
   ]
  },
  {
   "cell_type": "code",
   "execution_count": 395,
   "id": "402aaab4",
   "metadata": {},
   "outputs": [
    {
     "data": {
      "text/html": [
       "<div>\n",
       "<style scoped>\n",
       "    .dataframe tbody tr th:only-of-type {\n",
       "        vertical-align: middle;\n",
       "    }\n",
       "\n",
       "    .dataframe tbody tr th {\n",
       "        vertical-align: top;\n",
       "    }\n",
       "\n",
       "    .dataframe thead th {\n",
       "        text-align: right;\n",
       "    }\n",
       "</style>\n",
       "<table border=\"1\" class=\"dataframe\">\n",
       "  <thead>\n",
       "    <tr style=\"text-align: right;\">\n",
       "      <th></th>\n",
       "      <th>Model</th>\n",
       "    </tr>\n",
       "    <tr>\n",
       "      <th>Accuracy</th>\n",
       "      <th></th>\n",
       "    </tr>\n",
       "  </thead>\n",
       "  <tbody>\n",
       "    <tr>\n",
       "      <th>90.80000</th>\n",
       "      <td>Decision Tree</td>\n",
       "    </tr>\n",
       "    <tr>\n",
       "      <th>81.26000</th>\n",
       "      <td>SVM</td>\n",
       "    </tr>\n",
       "    <tr>\n",
       "      <th>0.83165</th>\n",
       "      <td>Neural Networks</td>\n",
       "    </tr>\n",
       "  </tbody>\n",
       "</table>\n",
       "</div>"
      ],
      "text/plain": [
       "                    Model\n",
       "Accuracy                 \n",
       "90.80000    Decision Tree\n",
       "81.26000              SVM\n",
       "0.83165   Neural Networks"
      ]
     },
     "execution_count": 395,
     "metadata": {},
     "output_type": "execute_result"
    }
   ],
   "source": [
    "results = pd.DataFrame({\n",
    "    'Model': ['SVM', 'Decision Tree', 'Neural Networks'],\n",
    "    'Accuracy': [acc_linear_svc,acc_decision_tree,accuracy]})\n",
    "result_df = results.sort_values(by='Accuracy', ascending=False)\n",
    "result_df = result_df.set_index('Accuracy')\n",
    "result_df.head(10)"
   ]
  },
  {
   "cell_type": "code",
   "execution_count": 396,
   "id": "92bcce16",
   "metadata": {},
   "outputs": [],
   "source": [
    "# The models that have been used show that the Decision Tree has the highest accuracy compared to the two models, which are the \n",
    "# SVM and Neural Networks. Also, removing the features such as the Cabin and the Passengers increase the accuracy\n",
    "# prediction of the two models."
   ]
  },
  {
   "cell_type": "code",
   "execution_count": null,
   "id": "1f611f93",
   "metadata": {},
   "outputs": [],
   "source": []
  }
 ],
 "metadata": {
  "kernelspec": {
   "display_name": "Python 3 (ipykernel)",
   "language": "python",
   "name": "python3"
  },
  "language_info": {
   "codemirror_mode": {
    "name": "ipython",
    "version": 3
   },
   "file_extension": ".py",
   "mimetype": "text/x-python",
   "name": "python",
   "nbconvert_exporter": "python",
   "pygments_lexer": "ipython3",
   "version": "3.9.12"
  }
 },
 "nbformat": 4,
 "nbformat_minor": 5
}
